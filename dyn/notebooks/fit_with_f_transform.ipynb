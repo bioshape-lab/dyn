{
 "cells": [
  {
   "cell_type": "markdown",
   "id": "f287e977",
   "metadata": {},
   "source": [
    "## Goal of this notebook\n",
    "\n",
    "In this notebook, i will attempt to fit a geodesic in the space of curves using the $F_{ab}$ function in http://arxiv.org/abs/1803.10894. This function gives us the ability to take a curve (for example, the outline of a cell shape) in the \"space of curves\" and transform it to \"q-space\". This is advantageous for us because \"q-space\" is a two dimensional flat euclidean space. Thus, if we transform the data into q space, then we can fit that data using a line (which is a geodesic in q space). If we want to make predictions about future data points in the \"space of curves\" then we can extrapolate the data in \"q-space\" using the line, and then we can transform that extrapolated data back into the \"space of curves\" using the inverse F transform. \n",
    "\n",
    "This is how we will fit/extrapolate data in this notebook. I will fit both synthetic and real datasets. \n",
    "\n",
    "## Metric used: Elastic Metric\n",
    "\n",
    "I will be using the elastic metric to perform calculations on the \"space of curves\" (a manifold). The elastic metric is a good choice of metric for \"curve space\" analysis for several reasons:\n",
    "\n",
    "1. It separates points on a manifold based on the amount of \"bending/rigidity\" or \"stretching/tension\" that exists between two curves. This provides a method of separating/placing curves on the manifold which is intuitive (intuitive is always good).\n",
    "2. The elastic metric has two parameters: the \"bending\" parameter $b$ and the \"stretching\" parameter $a$. These parameters can be easily changed to tweak the metric.  When $a$ is large, then two curves that differ by a stretching operation will be far apart. When $b$ is large, two curves that differ by a bending operation wil be far apart.\n",
    "\n",
    "I will repeat analysis for the synthetic and real datasets for several different elastic metric parameters $a$ and $b$."
   ]
  },
  {
   "cell_type": "markdown",
   "id": "c3091f8c",
   "metadata": {},
   "source": [
    "# Begin dataset analysis:"
   ]
  },
  {
   "cell_type": "code",
   "execution_count": 7,
   "id": "75903b8e",
   "metadata": {},
   "outputs": [],
   "source": [
    "#first, load relevant things:\n",
    "\n",
    "import os\n",
    "\n",
    "os.environ[\"GEOMSTATS_BACKEND\"] = \"pytorch\"\n",
    "import geomstats.backend as gs\n",
    "\n",
    "#load discrete curves and R2 manifolds\n",
    "from geomstats.geometry.discrete_curves import DiscreteCurves, R2\n",
    "\n",
    "#specify the manifold that we are working on and give that manifold a metric (elastic metric)\n",
    "#note that a and b are the parameters that we edit.\n",
    "SPACE = DiscreteCurves(R2, a=1, b=1)\n",
    "METRIC = SPACE.elastic_metric"
   ]
  },
  {
   "cell_type": "markdown",
   "id": "c8d50e6a",
   "metadata": {},
   "source": [
    "# 1. Synthetic Datasets"
   ]
  },
  {
   "cell_type": "code",
   "execution_count": 36,
   "id": "81b08c54",
   "metadata": {},
   "outputs": [],
   "source": [
    "#import synthetic datasets\n",
    "\n",
    "import dyn.dyn.datasets.synthetic as synthetic\n",
    "\n",
    "n_geodesics = 1\n",
    "n_times = 10\n",
    "n_points = 40\n",
    "\n",
    "#creating our synthetic dataset\n",
    "geods_square_rect = synthetic.geodesics_square_to_rectangle(\n",
    "    n_geodesics=n_geodesics, n_times=n_times, n_points=n_points\n",
    ")"
   ]
  },
  {
   "cell_type": "markdown",
   "id": "44bc8bf5",
   "metadata": {},
   "source": [
    "## 1.1 getting familiar with the dataset array"
   ]
  },
  {
   "cell_type": "code",
   "execution_count": 37,
   "id": "0e84f7cd",
   "metadata": {},
   "outputs": [
    {
     "name": "stdout",
     "output_type": "stream",
     "text": [
      "torch.Size([1, 10, 40, 2])\n"
     ]
    }
   ],
   "source": [
    "# From synthetic.py: \n",
    "#geodesics = gs.zeros((n_geodesics, n_times, n_points, dim))\n",
    "#n_geodesics is the number of geodesics we want to calculate\n",
    "#n_times is the number of times (or rather, the shape at that time) we want to \"sample\" on each geodesic\n",
    "#n_points is the number of points on the curve.\n",
    "#dim is the dimension of the curve. (for example, a 2D curve has dim=2)\n",
    "\n",
    "print(geods_square_rect.shape)"
   ]
  },
  {
   "cell_type": "code",
   "execution_count": 38,
   "id": "fa099c6a",
   "metadata": {},
   "outputs": [
    {
     "name": "stdout",
     "output_type": "stream",
     "text": [
      "tensor([[-1.0694e+00, -1.0694e+00],\n",
      "        [-8.5551e-01, -1.0694e+00],\n",
      "        [-6.4164e-01, -1.0694e+00],\n",
      "        [-4.2776e-01, -1.0694e+00],\n",
      "        [-2.1388e-01, -1.0694e+00],\n",
      "        [ 4.4703e-08, -1.0694e+00],\n",
      "        [ 2.1388e-01, -1.0694e+00],\n",
      "        [ 4.2776e-01, -1.0694e+00],\n",
      "        [ 6.4164e-01, -1.0694e+00],\n",
      "        [ 8.5551e-01, -1.0694e+00],\n",
      "        [ 1.0694e+00, -1.0694e+00],\n",
      "        [ 1.0694e+00, -8.5551e-01],\n",
      "        [ 1.0694e+00, -6.4164e-01],\n",
      "        [ 1.0694e+00, -4.2776e-01],\n",
      "        [ 1.0694e+00, -2.1388e-01],\n",
      "        [ 1.0694e+00,  4.4703e-08],\n",
      "        [ 1.0694e+00,  2.1388e-01],\n",
      "        [ 1.0694e+00,  4.2776e-01],\n",
      "        [ 1.0694e+00,  6.4164e-01],\n",
      "        [ 1.0694e+00,  8.5551e-01],\n",
      "        [ 1.0694e+00,  1.0694e+00],\n",
      "        [ 8.5551e-01,  1.0694e+00],\n",
      "        [ 6.4164e-01,  1.0694e+00],\n",
      "        [ 4.2776e-01,  1.0694e+00],\n",
      "        [ 2.1388e-01,  1.0694e+00],\n",
      "        [ 4.4703e-08,  1.0694e+00],\n",
      "        [-2.1388e-01,  1.0694e+00],\n",
      "        [-4.2776e-01,  1.0694e+00],\n",
      "        [-6.4164e-01,  1.0694e+00],\n",
      "        [-8.5551e-01,  1.0694e+00],\n",
      "        [-1.0694e+00,  1.0694e+00],\n",
      "        [-1.0694e+00,  8.5551e-01],\n",
      "        [-1.0694e+00,  6.4164e-01],\n",
      "        [-1.0694e+00,  4.2776e-01],\n",
      "        [-1.0694e+00,  2.1388e-01],\n",
      "        [-1.0694e+00,  4.4703e-08],\n",
      "        [-1.0694e+00, -2.1388e-01],\n",
      "        [-1.0694e+00, -4.2776e-01],\n",
      "        [-1.0694e+00, -6.4164e-01],\n",
      "        [-1.0694e+00, -8.5551e-01]])\n"
     ]
    }
   ],
   "source": [
    "#printing the first geodesic at the first time. this is the list of all of the coordinates of each point on the curve.\n",
    "\n",
    "print(geods_square_rect[0,0,:,:])"
   ]
  },
  {
   "cell_type": "code",
   "execution_count": 39,
   "id": "21544400",
   "metadata": {},
   "outputs": [],
   "source": [
    "from matplotlib import pyplot as plt"
   ]
  },
  {
   "cell_type": "code",
   "execution_count": 40,
   "id": "1392e450",
   "metadata": {},
   "outputs": [
    {
     "name": "stdout",
     "output_type": "stream",
     "text": [
      "[[-1.0693930e+00 -1.0693930e+00]\n",
      " [-8.5551441e-01 -1.0693930e+00]\n",
      " [-6.4163578e-01 -1.0693930e+00]\n",
      " [-4.2775720e-01 -1.0693930e+00]\n",
      " [-2.1387857e-01 -1.0693930e+00]\n",
      " [ 4.4703484e-08 -1.0693930e+00]\n",
      " [ 2.1387866e-01 -1.0693930e+00]\n",
      " [ 4.2775726e-01 -1.0693930e+00]\n",
      " [ 6.4163589e-01 -1.0693930e+00]\n",
      " [ 8.5551453e-01 -1.0693930e+00]\n",
      " [ 1.0693932e+00 -1.0693930e+00]\n",
      " [ 1.0693932e+00 -8.5551441e-01]\n",
      " [ 1.0693932e+00 -6.4163578e-01]\n",
      " [ 1.0693932e+00 -4.2775720e-01]\n",
      " [ 1.0693932e+00 -2.1387857e-01]\n",
      " [ 1.0693932e+00  4.4703484e-08]\n",
      " [ 1.0693932e+00  2.1387866e-01]\n",
      " [ 1.0693932e+00  4.2775726e-01]\n",
      " [ 1.0693932e+00  6.4163589e-01]\n",
      " [ 1.0693932e+00  8.5551453e-01]\n",
      " [ 1.0693932e+00  1.0693932e+00]\n",
      " [ 8.5551453e-01  1.0693932e+00]\n",
      " [ 6.4163589e-01  1.0693932e+00]\n",
      " [ 4.2775726e-01  1.0693932e+00]\n",
      " [ 2.1387866e-01  1.0693932e+00]\n",
      " [ 4.4703484e-08  1.0693932e+00]\n",
      " [-2.1387857e-01  1.0693932e+00]\n",
      " [-4.2775720e-01  1.0693932e+00]\n",
      " [-6.4163578e-01  1.0693932e+00]\n",
      " [-8.5551441e-01  1.0693932e+00]\n",
      " [-1.0693930e+00  1.0693932e+00]\n",
      " [-1.0693930e+00  8.5551453e-01]\n",
      " [-1.0693930e+00  6.4163589e-01]\n",
      " [-1.0693930e+00  4.2775726e-01]\n",
      " [-1.0693930e+00  2.1387866e-01]\n",
      " [-1.0693930e+00  4.4703484e-08]\n",
      " [-1.0693930e+00 -2.1387857e-01]\n",
      " [-1.0693930e+00 -4.2775720e-01]\n",
      " [-1.0693930e+00 -6.4163578e-01]\n",
      " [-1.0693930e+00 -8.5551441e-01]]\n"
     ]
    }
   ],
   "source": [
    "data =  geods_square_rect[0,0,:,:].numpy()\n",
    "print(data)"
   ]
  },
  {
   "cell_type": "code",
   "execution_count": 41,
   "id": "d43ab778",
   "metadata": {},
   "outputs": [
    {
     "data": {
      "text/plain": [
       "[<matplotlib.lines.Line2D at 0x7f90da372a60>]"
      ]
     },
     "execution_count": 41,
     "metadata": {},
     "output_type": "execute_result"
    },
    {
     "data": {
      "image/png": "[encoded data removed]",
      "text/plain": [
       "<Figure size 432x288 with 1 Axes>"
      ]
     },
     "metadata": {
      "needs_background": "light"
     },
     "output_type": "display_data"
    }
   ],
   "source": [
    "#how to plot the square\n",
    "plt.plot(geods_square_rect[0,0,:,0], geods_square_rect[0,0,:,1],marker=\"o\")"
   ]
  },
  {
   "cell_type": "markdown",
   "id": "43158997",
   "metadata": {},
   "source": [
    "## 1.2 Transform the dataset of curves (c1,..., cT) into their corresponding \"q's\" using `f_transform`."
   ]
  },
  {
   "cell_type": "code",
   "execution_count": 67,
   "id": "1a4815d5",
   "metadata": {},
   "outputs": [
    {
     "name": "stdout",
     "output_type": "stream",
     "text": [
      "torch.Size([10, 40, 2])\n",
      "0\n",
      "torch.Size([40, 2])\n"
     ]
    },
    {
     "ename": "TypeError",
     "evalue": "f_transform() missing 2 required positional arguments: 'self' and 'curve'",
     "output_type": "error",
     "traceback": [
      "\u001b[0;31m---------------------------------------------------------------------------\u001b[0m",
      "\u001b[0;31mTypeError\u001b[0m                                 Traceback (most recent call last)",
      "Input \u001b[0;32mIn [67]\u001b[0m, in \u001b[0;36m<cell line: 12>\u001b[0;34m()\u001b[0m\n\u001b[1;32m     15\u001b[0m curve\u001b[38;5;241m=\u001b[39m geodesic[i_time]\n\u001b[1;32m     16\u001b[0m \u001b[38;5;28mprint\u001b[39m(curve\u001b[38;5;241m.\u001b[39mshape)\n\u001b[0;32m---> 17\u001b[0m q[i_time]\u001b[38;5;241m=\u001b[39m\u001b[43mElasticMetric\u001b[49m\u001b[38;5;241;43m.\u001b[39;49m\u001b[43mf_transform\u001b[49m\u001b[43m(\u001b[49m\u001b[43m)\u001b[49m\n",
      "\u001b[0;31mTypeError\u001b[0m: f_transform() missing 2 required positional arguments: 'self' and 'curve'"
     ]
    }
   ],
   "source": [
    "#first, we must import the elastic metric class because that is where the f transform is located\n",
    "from geomstats.geometry.discrete_curves import ElasticMetric\n",
    "\n",
    "q=[]\n",
    "\n",
    "\n",
    "\n",
    "#selecting the first (and only) geodesic\n",
    "geodesic = geods_square_rect[0]\n",
    "print (geodesic.shape)\n",
    "\n",
    "for i_time in range(n_times):\n",
    "    print(i_time)\n",
    "    #selecting the shape at a single \"time\" in the geodesic\n",
    "    curve= geodesic[i_time]\n",
    "    print(curve.shape)\n",
    "    q[i_time]=ElasticMetric.f_transform()"
   ]
  },
  {
   "cell_type": "code",
   "execution_count": null,
   "id": "dc32a4a4",
   "metadata": {},
   "outputs": [],
   "source": []
  }
 ],
 "metadata": {
  "kernelspec": {
   "display_name": "Python 3.8.13 64-bit ('dyn': conda)",
   "language": "python",
   "name": "python381364bitdyncondaf9551b40dbe44ba5b6a4ba972ca87957"
  },
  "language_info": {
   "codemirror_mode": {
    "name": "ipython",
    "version": 3
   },
   "file_extension": ".py",
   "mimetype": "text/x-python",
   "name": "python",
   "nbconvert_exporter": "python",
   "pygments_lexer": "ipython3",
   "version": "3.8.13"
  }
 },
 "nbformat": 4,
 "nbformat_minor": 5
}
