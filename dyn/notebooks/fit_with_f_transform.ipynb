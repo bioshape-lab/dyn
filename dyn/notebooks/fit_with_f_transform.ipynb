{
 "cells": [
  {
   "cell_type": "markdown",
   "id": "a423455f",
   "metadata": {},
   "source": [
    "## Goal of this notebook\n",
    "\n",
    "In this notebook, i will attempt to fit a geodesic in the space of curves using the $F_{ab}$ function in http://arxiv.org/abs/1803.10894. This function gives us the ability to take a curve (for example, the outline of a cell shape) in the \"space of curves\" and transform it to \"q-space\". This is advantageous for us because \"q-space\" is a two dimensional flat euclidean space. Thus, if we transform the data into q space, then we can fit that data using a line (which is a geodesic in q space). If we want to make predictions about future data points in the \"space of curves\" then we can extrapolate the data in \"q-space\" using the line, and then we can transform that extrapolated data back into the \"space of curves\" using the inverse F transform. \n",
    "\n",
    "This is how we will fit/extrapolate data in this notebook. I will fit both synthetic and real datasets. \n",
    "\n",
    "## Metric used: Elastic Metric\n",
    "\n",
    "I will be using the elastic metric to perform calculations on the \"space of curves\" (a manifold). The elastic metric is a good choice of metric for \"curve space\" analysis for several reasons:\n",
    "\n",
    "1. It separates points on a manifold based on the amount of \"bending/rigidity\" or \"stretching/tension\" that exists between two curves. This provides a method of separating/placing curves on the manifold which is intuitive (intuitive is always good).\n",
    "2. The elastic metric has two parameters: the \"bending\" parameter $b$ and the \"stretching\" parameter $a$. These parameters can be easily changed to tweak the metric.  When $a$ is large, then two curves that differ by a stretching operation will be far apart. When $b$ is large, two curves that differ by a bending operation wil be far apart.\n",
    "\n",
    "I will repeat analysis for the synthetic and real datasets for several different elastic metric parameters $a$ and $b$."
   ]
  },
  {
   "cell_type": "markdown",
   "id": "d181b069",
   "metadata": {},
   "source": [
    "# Begin dataset analysis:"
   ]
  },
  {
   "cell_type": "code",
   "execution_count": 7,
   "id": "05b9c503",
   "metadata": {},
   "outputs": [],
   "source": [
    "#first, load relevant things:\n",
    "\n",
    "import os\n",
    "\n",
    "os.environ[\"GEOMSTATS_BACKEND\"] = \"pytorch\"\n",
    "import geomstats.backend as gs\n",
    "\n",
    "#load discrete curves and R2 manifolds\n",
    "from geomstats.geometry.discrete_curves import DiscreteCurves, R2\n",
    "\n",
    "#specify the manifold that we are working on and give that manifold a metric (elastic metric)\n",
    "#note that a and b are the parameters that we edit.\n",
    "SPACE = DiscreteCurves(R2, a=1, b=1)\n",
    "METRIC = SPACE.elastic_metric"
   ]
  },
  {
   "cell_type": "markdown",
   "id": "f96310ba",
   "metadata": {},
   "source": [
    "# A. Synthetic Datasets"
   ]
  },
  {
   "cell_type": "markdown",
   "id": "591cf71c",
   "metadata": {},
   "source": [
    "# 1. Transform the dataset of curves (c1,..., cT) into their corresponding \"q's\" using `f_transform`."
   ]
  },
  {
   "cell_type": "code",
   "execution_count": 11,
   "id": "b1528deb",
   "metadata": {},
   "outputs": [],
   "source": [
    "#import synthetic datasets\n",
    "\n",
    "import dyn.dyn.datasets.synthetic as synthetic\n",
    "\n",
    "n_geodesics = 5\n",
    "n_times = 10\n",
    "n_points = 40\n",
    "\n",
    "#creating our synthetic dataset\n",
    "geods_square_rect = synthetic.geodesics_square_to_rectangle(\n",
    "    n_geodesics=n_geodesics, n_times=n_times, n_points=n_points\n",
    ")"
   ]
  },
  {
   "cell_type": "markdown",
   "id": "e9b850f2",
   "metadata": {},
   "source": [
    "## 1.1 getting familiar with the dataset array"
   ]
  },
  {
   "cell_type": "code",
   "execution_count": 16,
   "id": "b55dff55",
   "metadata": {},
   "outputs": [
    {
     "name": "stdout",
     "output_type": "stream",
     "text": [
      "torch.Size([5, 10, 40, 2])\n"
     ]
    }
   ],
   "source": [
    "# From synthetic.py: \n",
    "#geodesics = gs.zeros((n_geodesics, n_times, n_points, dim))\n",
    "#n_geodesics is the number of geodesics we want to calculate\n",
    "#n_times is the number of times (or rather, the shape at that time) we want to \"sample\" on each geodesic\n",
    "#n_points is the number of points on the curve.\n",
    "#dim is the dimension of the curve. (for example, a 2D curve has dim=2)\n",
    "\n",
    "print(geods_square_rect.shape)"
   ]
  },
  {
   "cell_type": "code",
   "execution_count": 15,
   "id": "7f64640a",
   "metadata": {},
   "outputs": [
    {
     "name": "stdout",
     "output_type": "stream",
     "text": [
      "tensor([[-0.9874, -0.9874],\n",
      "        [-0.7899, -0.9874],\n",
      "        [-0.5924, -0.9874],\n",
      "        [-0.3950, -0.9874],\n",
      "        [-0.1975, -0.9874],\n",
      "        [ 0.0000, -0.9874],\n",
      "        [ 0.1975, -0.9874],\n",
      "        [ 0.3950, -0.9874],\n",
      "        [ 0.5924, -0.9874],\n",
      "        [ 0.7899, -0.9874],\n",
      "        [ 0.9874, -0.9874],\n",
      "        [ 0.9874, -0.7899],\n",
      "        [ 0.9874, -0.5924],\n",
      "        [ 0.9874, -0.3950],\n",
      "        [ 0.9874, -0.1975],\n",
      "        [ 0.9874,  0.0000],\n",
      "        [ 0.9874,  0.1975],\n",
      "        [ 0.9874,  0.3950],\n",
      "        [ 0.9874,  0.5924],\n",
      "        [ 0.9874,  0.7899],\n",
      "        [ 0.9874,  0.9874],\n",
      "        [ 0.7899,  0.9874],\n",
      "        [ 0.5924,  0.9874],\n",
      "        [ 0.3950,  0.9874],\n",
      "        [ 0.1975,  0.9874],\n",
      "        [ 0.0000,  0.9874],\n",
      "        [-0.1975,  0.9874],\n",
      "        [-0.3950,  0.9874],\n",
      "        [-0.5924,  0.9874],\n",
      "        [-0.7899,  0.9874],\n",
      "        [-0.9874,  0.9874],\n",
      "        [-0.9874,  0.7899],\n",
      "        [-0.9874,  0.5924],\n",
      "        [-0.9874,  0.3950],\n",
      "        [-0.9874,  0.1975],\n",
      "        [-0.9874,  0.0000],\n",
      "        [-0.9874, -0.1975],\n",
      "        [-0.9874, -0.3950],\n",
      "        [-0.9874, -0.5924],\n",
      "        [-0.9874, -0.7899]])\n"
     ]
    }
   ],
   "source": [
    "#printing the first geodesic at the first time. this is the list of all of the coordinates of each point on the curve.\n",
    "\n",
    "print(geods_square_rect[0,0,:,:])"
   ]
  },
  {
   "cell_type": "code",
   "execution_count": 17,
   "id": "1d726ac3",
   "metadata": {},
   "outputs": [],
   "source": [
    "from matplotlib import pyplot as plt"
   ]
  },
  {
   "cell_type": "code",
   "execution_count": 28,
   "id": "593454ce",
   "metadata": {},
   "outputs": [
    {
     "name": "stdout",
     "output_type": "stream",
     "text": [
      "[-0.9873839 -0.9873839]\n"
     ]
    }
   ],
   "source": [
    "data =  geods_square_rect[0,0,:,:].numpy()\n",
    "print(data)"
   ]
  },
  {
   "cell_type": "code",
   "execution_count": 26,
   "id": "d97e2aa1",
   "metadata": {},
   "outputs": [
    {
     "data": {
      "text/plain": [
       "[<matplotlib.lines.Line2D at 0x7f90f6e2fc10>,\n",
       " <matplotlib.lines.Line2D at 0x7f90f6e2fc70>]"
      ]
     },
     "execution_count": 26,
     "metadata": {},
     "output_type": "execute_result"
    },
    {
     "data": {
      "image/png": "[encoded data removed]",
      "text/plain": [
       "<Figure size 432x288 with 1 Axes>"
      ]
     },
     "metadata": {
      "needs_background": "light"
     },
     "output_type": "display_data"
    }
   ],
   "source": [
    "plt.plot(data,marker=\"o\")"
   ]
  },
  {
   "cell_type": "code",
   "execution_count": null,
   "id": "e212710a",
   "metadata": {},
   "outputs": [],
   "source": []
  }
 ],
 "metadata": {
  "kernelspec": {
   "display_name": "Python 3.8.13 64-bit ('dyn': conda)",
   "language": "python",
   "name": "python381364bitdyncondaf9551b40dbe44ba5b6a4ba972ca87957"
  },
  "language_info": {
   "codemirror_mode": {
    "name": "ipython",
    "version": 3
   },
   "file_extension": ".py",
   "mimetype": "text/x-python",
   "name": "python",
   "nbconvert_exporter": "python",
   "pygments_lexer": "ipython3",
   "version": "3.8.13"
  }
 },
 "nbformat": 4,
 "nbformat_minor": 5
}
