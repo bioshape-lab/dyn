{
 "cells": [
  {
   "cell_type": "markdown",
   "id": "06008ff2",
   "metadata": {},
   "source": [
    "## Goal of this notebook\n",
    "\n",
    "In this notebook, i will attempt to fit a geodesic in the space of curves using the $F_{ab}$ function in http://arxiv.org/abs/1803.10894. This function gives us the ability to take a curve (for example, the outline of a cell shape) in the \"space of curves\" and transform it to \"q-space\". This is advantageous for us because \"q-space\" is a two dimensional flat euclidean space. Thus, if we transform the data into q space, then we can fit that data using a line (which is a geodesic in q space). If we want to make predictions about future data points in the \"space of curves\" then we can extrapolate the data in \"q-space\" using the line, and then we can transform that extrapolated data back into the \"space of curves\" using the inverse F transform. \n",
    "\n",
    "This is how we will fit/extrapolate data in this notebook. I will fit both synthetic and real datasets. \n",
    "\n",
    "## Metric used: Elastic Metric\n",
    "\n",
    "I will be using the elastic metric to perform calculations on the \"space of curves\" (a manifold). The elastic metric is a good choice of metric for \"curve space\" analysis for several reasons:\n",
    "\n",
    "1. It separates points on a manifold based on the amount of \"bending/rigidity\" or \"stretching/tension\" that exists between two curves. This provides a method of separating/placing curves on the manifold which is intuitive (intuitive is always good).\n",
    "2. The elastic metric has two parameters: the \"bending\" parameter $b$ and the \"stretching\" parameter $a$. These parameters can be easily changed to tweak the metric.  When $a$ is large, then two curves that differ by a stretching operation will be far apart. When $b$ is large, two curves that differ by a bending operation wil be far apart.\n",
    "\n",
    "I will repeat analysis for the synthetic and real datasets for several different elastic metric parameters $a$ and $b$."
   ]
  },
  {
   "cell_type": "markdown",
   "id": "199162a7",
   "metadata": {},
   "source": [
    "# Begin dataset analysis:"
   ]
  },
  {
   "cell_type": "code",
   "execution_count": 7,
   "id": "36d66f31",
   "metadata": {},
   "outputs": [],
   "source": [
    "#first, load relevant things:\n",
    "\n",
    "import os\n",
    "\n",
    "os.environ[\"GEOMSTATS_BACKEND\"] = \"pytorch\"\n",
    "import geomstats.backend as gs\n",
    "\n",
    "#load discrete curves and R2 manifolds\n",
    "from geomstats.geometry.discrete_curves import DiscreteCurves, R2\n",
    "\n",
    "#specify the manifold that we are working on and give that manifold a metric (elastic metric)\n",
    "#note that a and b are the parameters that we edit.\n",
    "SPACE = DiscreteCurves(R2, a=1, b=1)\n",
    "METRIC = SPACE.elastic_metric"
   ]
  },
  {
   "cell_type": "markdown",
   "id": "754c36ea",
   "metadata": {},
   "source": [
    "# 1. Synthetic Datasets"
   ]
  },
  {
   "cell_type": "code",
   "execution_count": 36,
   "id": "08ef85a4",
   "metadata": {},
   "outputs": [],
   "source": [
    "#import synthetic datasets\n",
    "\n",
    "import dyn.dyn.datasets.synthetic as synthetic\n",
    "\n",
    "n_geodesics = 1\n",
    "n_times = 10\n",
    "n_points = 40\n",
    "\n",
    "#creating our synthetic dataset\n",
    "geods_square_rect = synthetic.geodesics_square_to_rectangle(\n",
    "    n_geodesics=n_geodesics, n_times=n_times, n_points=n_points\n",
    ")"
   ]
  },
  {
   "cell_type": "markdown",
   "id": "2cf86f3f",
   "metadata": {},
   "source": [
    "## 1.1 getting familiar with the dataset array"
   ]
  },
  {
   "cell_type": "code",
   "execution_count": 37,
   "id": "7c1185ee",
   "metadata": {},
   "outputs": [
    {
     "name": "stdout",
     "output_type": "stream",
     "text": [
      "torch.Size([1, 10, 40, 2])\n"
     ]
    }
   ],
   "source": [
    "# From synthetic.py: \n",
    "#geodesics = gs.zeros((n_geodesics, n_times, n_points, dim))\n",
    "#n_geodesics is the number of geodesics we want to calculate\n",
    "#n_times is the number of times (or rather, the shape at that time) we want to \"sample\" on each geodesic\n",
    "#n_points is the number of points on the curve.\n",
    "#dim is the dimension of the curve. (for example, a 2D curve has dim=2)\n",
    "\n",
    "print(geods_square_rect.shape)"
   ]
  },
  {
   "cell_type": "code",
   "execution_count": 38,
   "id": "33e82bee",
   "metadata": {},
   "outputs": [
    {
     "name": "stdout",
     "output_type": "stream",
     "text": [
      "tensor([[-1.0694e+00, -1.0694e+00],\n",
      "        [-8.5551e-01, -1.0694e+00],\n",
      "        [-6.4164e-01, -1.0694e+00],\n",
      "        [-4.2776e-01, -1.0694e+00],\n",
      "        [-2.1388e-01, -1.0694e+00],\n",
      "        [ 4.4703e-08, -1.0694e+00],\n",
      "        [ 2.1388e-01, -1.0694e+00],\n",
      "        [ 4.2776e-01, -1.0694e+00],\n",
      "        [ 6.4164e-01, -1.0694e+00],\n",
      "        [ 8.5551e-01, -1.0694e+00],\n",
      "        [ 1.0694e+00, -1.0694e+00],\n",
      "        [ 1.0694e+00, -8.5551e-01],\n",
      "        [ 1.0694e+00, -6.4164e-01],\n",
      "        [ 1.0694e+00, -4.2776e-01],\n",
      "        [ 1.0694e+00, -2.1388e-01],\n",
      "        [ 1.0694e+00,  4.4703e-08],\n",
      "        [ 1.0694e+00,  2.1388e-01],\n",
      "        [ 1.0694e+00,  4.2776e-01],\n",
      "        [ 1.0694e+00,  6.4164e-01],\n",
      "        [ 1.0694e+00,  8.5551e-01],\n",
      "        [ 1.0694e+00,  1.0694e+00],\n",
      "        [ 8.5551e-01,  1.0694e+00],\n",
      "        [ 6.4164e-01,  1.0694e+00],\n",
      "        [ 4.2776e-01,  1.0694e+00],\n",
      "        [ 2.1388e-01,  1.0694e+00],\n",
      "        [ 4.4703e-08,  1.0694e+00],\n",
      "        [-2.1388e-01,  1.0694e+00],\n",
      "        [-4.2776e-01,  1.0694e+00],\n",
      "        [-6.4164e-01,  1.0694e+00],\n",
      "        [-8.5551e-01,  1.0694e+00],\n",
      "        [-1.0694e+00,  1.0694e+00],\n",
      "        [-1.0694e+00,  8.5551e-01],\n",
      "        [-1.0694e+00,  6.4164e-01],\n",
      "        [-1.0694e+00,  4.2776e-01],\n",
      "        [-1.0694e+00,  2.1388e-01],\n",
      "        [-1.0694e+00,  4.4703e-08],\n",
      "        [-1.0694e+00, -2.1388e-01],\n",
      "        [-1.0694e+00, -4.2776e-01],\n",
      "        [-1.0694e+00, -6.4164e-01],\n",
      "        [-1.0694e+00, -8.5551e-01]])\n"
     ]
    }
   ],
   "source": [
    "#printing the first geodesic at the first time. this is the list of all of the coordinates of each point on the curve.\n",
    "\n",
    "print(geods_square_rect[0,0,:,:])"
   ]
  },
  {
   "cell_type": "code",
   "execution_count": 39,
   "id": "a1eaa342",
   "metadata": {},
   "outputs": [],
   "source": [
    "from matplotlib import pyplot as plt"
   ]
  },
  {
   "cell_type": "code",
   "execution_count": 133,
   "id": "adced32e",
   "metadata": {},
   "outputs": [
    {
     "name": "stdout",
     "output_type": "stream",
     "text": [
      "(40, 2)\n"
     ]
    }
   ],
   "source": [
    "data =  geods_square_rect[0,0,:,:].numpy()\n",
    "print(data.shape)"
   ]
  },
  {
   "cell_type": "code",
   "execution_count": 129,
   "id": "c74be0eb",
   "metadata": {},
   "outputs": [
    {
     "data": {
      "text/plain": [
       "tensor([-1.0694e+00, -8.5551e-01, -6.4164e-01, -4.2776e-01, -2.1388e-01,\n",
       "         4.4703e-08,  2.1388e-01,  4.2776e-01,  6.4164e-01,  8.5551e-01,\n",
       "         1.0694e+00,  1.0694e+00,  1.0694e+00,  1.0694e+00,  1.0694e+00,\n",
       "         1.0694e+00,  1.0694e+00,  1.0694e+00,  1.0694e+00,  1.0694e+00,\n",
       "         1.0694e+00,  8.5551e-01,  6.4164e-01,  4.2776e-01,  2.1388e-01,\n",
       "         4.4703e-08, -2.1388e-01, -4.2776e-01, -6.4164e-01, -8.5551e-01,\n",
       "        -1.0694e+00, -1.0694e+00, -1.0694e+00, -1.0694e+00, -1.0694e+00,\n",
       "        -1.0694e+00, -1.0694e+00, -1.0694e+00, -1.0694e+00, -1.0694e+00])"
      ]
     },
     "execution_count": 129,
     "metadata": {},
     "output_type": "execute_result"
    }
   ],
   "source": [
    "geods_square_rect[0,0,:,0]"
   ]
  },
  {
   "cell_type": "code",
   "execution_count": 103,
   "id": "4dd6b611",
   "metadata": {},
   "outputs": [
    {
     "name": "stdout",
     "output_type": "stream",
     "text": [
      "tensor([-1.0694e+00, -8.5551e-01, -6.4164e-01, -4.2776e-01, -2.1388e-01,\n",
      "         4.4703e-08,  2.1388e-01,  4.2776e-01,  6.4164e-01,  8.5551e-01,\n",
      "         1.0694e+00,  1.0694e+00,  1.0694e+00,  1.0694e+00,  1.0694e+00,\n",
      "         1.0694e+00,  1.0694e+00,  1.0694e+00,  1.0694e+00,  1.0694e+00,\n",
      "         1.0694e+00,  8.5551e-01,  6.4164e-01,  4.2776e-01,  2.1388e-01,\n",
      "         4.4703e-08, -2.1388e-01, -4.2776e-01, -6.4164e-01, -8.5551e-01,\n",
      "        -1.0694e+00, -1.0694e+00, -1.0694e+00, -1.0694e+00, -1.0694e+00,\n",
      "        -1.0694e+00, -1.0694e+00, -1.0694e+00, -1.0694e+00, -1.0694e+00])\n"
     ]
    },
    {
     "data": {
      "image/png": "[encoded data removed]",
      "text/plain": [
       "<Figure size 432x288 with 1 Axes>"
      ]
     },
     "metadata": {
      "needs_background": "light"
     },
     "output_type": "display_data"
    }
   ],
   "source": [
    "#how to plot the square\n",
    "plt.plot(geods_square_rect[0,0,:,0], geods_square_rect[0,0,:,1],marker=\"o\")"
   ]
  },
  {
   "cell_type": "markdown",
   "id": "5f4b3a80",
   "metadata": {},
   "source": [
    "## 1.2 Transform the dataset of curves (c1,..., cT) into their corresponding \"q's\" using `f_transform`."
   ]
  },
  {
   "cell_type": "code",
   "execution_count": 135,
   "id": "81f64a6f",
   "metadata": {
    "scrolled": true
   },
   "outputs": [
    {
     "name": "stdout",
     "output_type": "stream",
     "text": [
      "(10, 39, 2)\n"
     ]
    }
   ],
   "source": [
    "#first, we must import the elastic metric class because that is where the f transform is located\n",
    "from geomstats.geometry.discrete_curves import ElasticMetric\n",
    "import numpy as np\n",
    "\n",
    "# this is creating (aka \"instantiating\") an object elastic_metric of the class ElasticMetric\n",
    "elastic_metric = ElasticMetric(a=1, b=1, ambient_manifold=R2)  \n",
    "\n",
    "#selecting the first (and only) geodesic\n",
    "#geodesic = geods_square_rect[0]\n",
    "\n",
    "#this creates a list of q tensors\n",
    "q_tensor_list=[]\n",
    "\n",
    "for i_time in range(n_times):\n",
    "    #selecting the shape at a single \"time\" in the geodesic\n",
    "    #curve= geodesic[i_time]\n",
    "    curve= geods_square_rect[0,i_time,:,:]\n",
    "    #print(curve)\n",
    "    #must keep curve as a tensor for now becaue that is what f_transform expects\n",
    "    q_tensor_list.append(elastic_metric.f_transform(curve))\n",
    "    #print(elastic_metric.f_transform(curve))\n",
    "\n",
    "#at this point, q_tensor_list is a list of transformed tensors.\n",
    "#we want to convert the tensors into arrays, which we can deal with more easily\n",
    "q_list=[]\n",
    "for i_time in range(n_times):\n",
    "    q_list.append(np.array(q_tensor_list[i_time]))\n",
    "\n",
    "#now, we want to convert the list of arrays into an array of arrays (3D array)\n",
    "q=np.array(q_list)\n",
    "\n",
    "#look, it worked. Note that this dimension is correct.\n",
    "#the number of points should go from 40 -> 39 because in f_transform, we calculate the \n",
    "#\"velocity\" which has to do with the space between points, and q is related to this velcity.\n",
    "print(q.shape)"
   ]
  },
  {
   "cell_type": "markdown",
   "id": "d8b8b761",
   "metadata": {},
   "source": [
    "## 1.3 Now, fit q1, …, qT with linear regression"
   ]
  },
  {
   "cell_type": "code",
   "execution_count": 164,
   "id": "ee80d0d7",
   "metadata": {},
   "outputs": [
    {
     "name": "stdout",
     "output_type": "stream",
     "text": [
      "(10, 78)\n"
     ]
    }
   ],
   "source": [
    "#in order to do linear regression with the q's, we will have to re-shape q because linear regression expects\n",
    "#something with a 1D shape. Therefore, we will create q_vector. \n",
    "#https://www.adamsmith.haus/python/answers/how-to-reshape-a-numpy-array-into-a-vector-in-python\n",
    "\n",
    "#we want to turn each of q1,...qT into a 1D array.\n",
    "q_vector_list =[]\n",
    "for i_times in range(n_times):\n",
    "    q_vector_list.append(np.reshape(q[i_times], -1))\n",
    "                         \n",
    "                         \n",
    "q_vector=np.array(q_vector_list)\n",
    "\n",
    "#now, q_vector is a 2D array where the first column is times and the second column is a bunch of numbers\n",
    "print(q_vector.shape)\n",
    "#print(q_vector)"
   ]
  },
  {
   "cell_type": "code",
   "execution_count": 172,
   "id": "4523d900",
   "metadata": {
    "scrolled": false
   },
   "outputs": [
    {
     "name": "stdout",
     "output_type": "stream",
     "text": [
      "(10, 1)\n"
     ]
    }
   ],
   "source": [
    "from sklearn import linear_model\n",
    "from sklearn.metrics import mean_squared_error, r2_score\n",
    "\n",
    "#create regression object\n",
    "regr = linear_model.LinearRegression()\n",
    "\n",
    "#Now, i need to create an array that only has the times\n",
    "q_times_list= []\n",
    "for i_time in range(n_times):\n",
    "    q_times_list.append([q_vector[i_time,0]])\n",
    "q_times=np.array(q_times_list)\n",
    "print(q_times.shape)\n",
    "\n",
    "regr.fit(q_times,q_vector)"
   ]
  },
  {
   "cell_type": "code",
   "execution_count": 156,
   "id": "1fcb65ac",
   "metadata": {
    "scrolled": true
   },
   "outputs": [
    {
     "data": {
      "text/plain": [
       "[<matplotlib.lines.Line2D at 0x7f90dd0392e0>,\n",
       " <matplotlib.lines.Line2D at 0x7f90dd039340>,\n",
       " <matplotlib.lines.Line2D at 0x7f90dd039400>,\n",
       " <matplotlib.lines.Line2D at 0x7f90dd039520>,\n",
       " <matplotlib.lines.Line2D at 0x7f90dd039640>,\n",
       " <matplotlib.lines.Line2D at 0x7f90dd039760>,\n",
       " <matplotlib.lines.Line2D at 0x7f90dd039880>,\n",
       " <matplotlib.lines.Line2D at 0x7f90dd04f310>,\n",
       " <matplotlib.lines.Line2D at 0x7f90dd04f340>,\n",
       " <matplotlib.lines.Line2D at 0x7f90dd04f250>,\n",
       " <matplotlib.lines.Line2D at 0x7f90dd039be0>,\n",
       " <matplotlib.lines.Line2D at 0x7f90dd039310>,\n",
       " <matplotlib.lines.Line2D at 0x7f90dd039df0>,\n",
       " <matplotlib.lines.Line2D at 0x7f90dd039f10>,\n",
       " <matplotlib.lines.Line2D at 0x7f90dd046070>,\n",
       " <matplotlib.lines.Line2D at 0x7f90dd046190>,\n",
       " <matplotlib.lines.Line2D at 0x7f90dd0462b0>,\n",
       " <matplotlib.lines.Line2D at 0x7f90dd0463d0>,\n",
       " <matplotlib.lines.Line2D at 0x7f90dd0464f0>,\n",
       " <matplotlib.lines.Line2D at 0x7f90dd046610>,\n",
       " <matplotlib.lines.Line2D at 0x7f90dd046730>,\n",
       " <matplotlib.lines.Line2D at 0x7f90dd046850>,\n",
       " <matplotlib.lines.Line2D at 0x7f90dd046970>,\n",
       " <matplotlib.lines.Line2D at 0x7f90dd046a90>,\n",
       " <matplotlib.lines.Line2D at 0x7f90dd046bb0>,\n",
       " <matplotlib.lines.Line2D at 0x7f90dd046cd0>,\n",
       " <matplotlib.lines.Line2D at 0x7f90dd046df0>,\n",
       " <matplotlib.lines.Line2D at 0x7f90dd046f10>,\n",
       " <matplotlib.lines.Line2D at 0x7f90dd052070>,\n",
       " <matplotlib.lines.Line2D at 0x7f90dd052190>,\n",
       " <matplotlib.lines.Line2D at 0x7f90dd0522b0>,\n",
       " <matplotlib.lines.Line2D at 0x7f90dd0523d0>,\n",
       " <matplotlib.lines.Line2D at 0x7f90dd0524f0>,\n",
       " <matplotlib.lines.Line2D at 0x7f90dd052610>,\n",
       " <matplotlib.lines.Line2D at 0x7f90dd052730>,\n",
       " <matplotlib.lines.Line2D at 0x7f90dd052850>,\n",
       " <matplotlib.lines.Line2D at 0x7f90dd052970>,\n",
       " <matplotlib.lines.Line2D at 0x7f90dd052a90>,\n",
       " <matplotlib.lines.Line2D at 0x7f90dd052bb0>,\n",
       " <matplotlib.lines.Line2D at 0x7f90dd052cd0>,\n",
       " <matplotlib.lines.Line2D at 0x7f90dd052df0>,\n",
       " <matplotlib.lines.Line2D at 0x7f90dd052f10>,\n",
       " <matplotlib.lines.Line2D at 0x7f90dd06d070>,\n",
       " <matplotlib.lines.Line2D at 0x7f90dd06d190>,\n",
       " <matplotlib.lines.Line2D at 0x7f90dd06d2b0>,\n",
       " <matplotlib.lines.Line2D at 0x7f90dd06d3d0>,\n",
       " <matplotlib.lines.Line2D at 0x7f90dd06d4f0>,\n",
       " <matplotlib.lines.Line2D at 0x7f90dd06d5b0>,\n",
       " <matplotlib.lines.Line2D at 0x7f90dd06d730>,\n",
       " <matplotlib.lines.Line2D at 0x7f90dd06d850>,\n",
       " <matplotlib.lines.Line2D at 0x7f90dd06d970>,\n",
       " <matplotlib.lines.Line2D at 0x7f90dd06da90>,\n",
       " <matplotlib.lines.Line2D at 0x7f90dd06dbb0>,\n",
       " <matplotlib.lines.Line2D at 0x7f90dd06dcd0>,\n",
       " <matplotlib.lines.Line2D at 0x7f90dd06ddf0>,\n",
       " <matplotlib.lines.Line2D at 0x7f90dd06df10>,\n",
       " <matplotlib.lines.Line2D at 0x7f90dd071070>,\n",
       " <matplotlib.lines.Line2D at 0x7f90dd071190>,\n",
       " <matplotlib.lines.Line2D at 0x7f90dd0712b0>,\n",
       " <matplotlib.lines.Line2D at 0x7f90dd0713d0>,\n",
       " <matplotlib.lines.Line2D at 0x7f90dd0714f0>,\n",
       " <matplotlib.lines.Line2D at 0x7f90dd071610>,\n",
       " <matplotlib.lines.Line2D at 0x7f90dd071730>,\n",
       " <matplotlib.lines.Line2D at 0x7f90dd071850>,\n",
       " <matplotlib.lines.Line2D at 0x7f90dd071970>,\n",
       " <matplotlib.lines.Line2D at 0x7f90dd071a90>,\n",
       " <matplotlib.lines.Line2D at 0x7f90dd071bb0>,\n",
       " <matplotlib.lines.Line2D at 0x7f90dd071cd0>,\n",
       " <matplotlib.lines.Line2D at 0x7f90dd071df0>,\n",
       " <matplotlib.lines.Line2D at 0x7f90dd071f10>,\n",
       " <matplotlib.lines.Line2D at 0x7f90dd091070>,\n",
       " <matplotlib.lines.Line2D at 0x7f90dd091190>,\n",
       " <matplotlib.lines.Line2D at 0x7f90dd0912b0>,\n",
       " <matplotlib.lines.Line2D at 0x7f90dd0913d0>,\n",
       " <matplotlib.lines.Line2D at 0x7f90dd0914f0>,\n",
       " <matplotlib.lines.Line2D at 0x7f90dd091610>,\n",
       " <matplotlib.lines.Line2D at 0x7f90dd091730>,\n",
       " <matplotlib.lines.Line2D at 0x7f90dd091850>]"
      ]
     },
     "execution_count": 156,
     "metadata": {},
     "output_type": "execute_result"
    },
    {
     "data": {
      "image/png": "[encoded data removed]",
      "text/plain": [
       "<Figure size 432x288 with 1 Axes>"
      ]
     },
     "metadata": {
      "needs_background": "light"
     },
     "output_type": "display_data"
    }
   ],
   "source": [
    "plt.plot( q_vector, marker = 'o')"
   ]
  },
  {
   "cell_type": "markdown",
   "id": "9a6797b1",
   "metadata": {},
   "source": [
    "## 1.4 Compute the estimated_q1, …., estimated_qT corresponding to the q1, …, qT"
   ]
  },
  {
   "cell_type": "code",
   "execution_count": 176,
   "id": "47c9e477",
   "metadata": {},
   "outputs": [
    {
     "name": "stdout",
     "output_type": "stream",
     "text": [
      "[[ 5.7762508e+00  0.0000000e+00  5.7762489e+00  0.0000000e+00\n",
      "   5.7762499e+00  0.0000000e+00  5.7762494e+00  0.0000000e+00\n",
      "   5.7762489e+00  0.0000000e+00  5.7762489e+00  0.0000000e+00\n",
      "   5.7762499e+00  0.0000000e+00  5.7762499e+00  0.0000000e+00\n",
      "   5.7762494e+00  0.0000000e+00  5.7762494e+00  0.0000000e+00\n",
      "   4.0844254e+00  4.0844254e+00  4.0844259e+00  4.0844259e+00\n",
      "   4.0844250e+00  4.0844250e+00  4.0844259e+00  4.0844259e+00\n",
      "   4.0844259e+00  4.0844259e+00  4.0844259e+00  4.0844259e+00\n",
      "   4.0844250e+00  4.0844250e+00  4.0844259e+00  4.0844259e+00\n",
      "   4.0844259e+00  4.0844259e+00  4.0844259e+00  4.0844259e+00\n",
      "  -2.5248789e-07  5.7762494e+00 -2.5248789e-07  5.7762494e+00\n",
      "  -2.5248787e-07  5.7762499e+00 -2.5248787e-07  5.7762499e+00\n",
      "  -2.5248789e-07  5.7762489e+00 -2.5248789e-07  5.7762489e+00\n",
      "  -2.5248787e-07  5.7762494e+00 -2.5248787e-07  5.7762499e+00\n",
      "  -2.5248792e-07  5.7762489e+00 -2.5248789e-07  5.7762508e+00\n",
      "  -4.0844259e+00  4.0844259e+00 -4.0844259e+00  4.0844259e+00\n",
      "  -4.0844259e+00  4.0844259e+00 -4.0844250e+00  4.0844250e+00\n",
      "  -4.0844259e+00  4.0844259e+00 -4.0844259e+00  4.0844259e+00\n",
      "  -4.0844259e+00  4.0844259e+00 -4.0844250e+00  4.0844250e+00\n",
      "  -4.0844259e+00  4.0844259e+00]\n",
      " [ 5.9945755e+00  0.0000000e+00  5.9945741e+00  0.0000000e+00\n",
      "   5.9945745e+00  0.0000000e+00  5.9945741e+00  0.0000000e+00\n",
      "   5.9945736e+00  0.0000000e+00  5.9945736e+00  0.0000000e+00\n",
      "   5.9945745e+00  0.0000000e+00  5.9945745e+00  0.0000000e+00\n",
      "   5.9945741e+00  0.0000000e+00  5.9945741e+00  0.0000000e+00\n",
      "   3.9432375e+00  3.9432375e+00  3.9432378e+00  3.9432378e+00\n",
      "   3.9432371e+00  3.9432371e+00  3.9432378e+00  3.9432378e+00\n",
      "   3.9432380e+00  3.9432380e+00  3.9432380e+00  3.9432380e+00\n",
      "   3.9432373e+00  3.9432373e+00  3.9432378e+00  3.9432378e+00\n",
      "   3.9432378e+00  3.9432378e+00  3.9432380e+00  3.9432380e+00\n",
      "  -2.6203116e-07  5.9945741e+00 -2.6203116e-07  5.9945741e+00\n",
      "  -2.6203114e-07  5.9945745e+00 -2.6203114e-07  5.9945745e+00\n",
      "  -2.6203116e-07  5.9945736e+00 -2.6203116e-07  5.9945736e+00\n",
      "  -2.6203114e-07  5.9945741e+00 -2.6203114e-07  5.9945745e+00\n",
      "  -2.6203119e-07  5.9945741e+00 -2.6203116e-07  5.9945755e+00\n",
      "  -3.9432380e+00  3.9432380e+00 -3.9432378e+00  3.9432378e+00\n",
      "  -3.9432378e+00  3.9432378e+00 -3.9432373e+00  3.9432373e+00\n",
      "  -3.9432380e+00  3.9432380e+00 -3.9432380e+00  3.9432380e+00\n",
      "  -3.9432378e+00  3.9432378e+00 -3.9432371e+00  3.9432371e+00\n",
      "  -3.9432378e+00  3.9432378e+00]\n",
      " [ 6.2129006e+00  0.0000000e+00  6.2129002e+00  0.0000000e+00\n",
      "   6.2129002e+00  0.0000000e+00  6.2128997e+00  0.0000000e+00\n",
      "   6.2128997e+00  0.0000000e+00  6.2128997e+00  0.0000000e+00\n",
      "   6.2129002e+00  0.0000000e+00  6.2129002e+00  0.0000000e+00\n",
      "   6.2128997e+00  0.0000000e+00  6.2128997e+00  0.0000000e+00\n",
      "   3.8020492e+00  3.8020492e+00  3.8020496e+00  3.8020496e+00\n",
      "   3.8020487e+00  3.8020487e+00  3.8020492e+00  3.8020492e+00\n",
      "   3.8020496e+00  3.8020496e+00  3.8020496e+00  3.8020496e+00\n",
      "   3.8020492e+00  3.8020492e+00  3.8020492e+00  3.8020492e+00\n",
      "   3.8020496e+00  3.8020496e+00  3.8020496e+00  3.8020496e+00\n",
      "  -2.7157449e-07  6.2128997e+00 -2.7157449e-07  6.2128997e+00\n",
      "  -2.7157446e-07  6.2129002e+00 -2.7157446e-07  6.2129002e+00\n",
      "  -2.7157449e-07  6.2128997e+00 -2.7157449e-07  6.2128997e+00\n",
      "  -2.7157446e-07  6.2128997e+00 -2.7157446e-07  6.2129002e+00\n",
      "  -2.7157452e-07  6.2129002e+00 -2.7157446e-07  6.2129006e+00\n",
      "  -3.8020496e+00  3.8020496e+00 -3.8020496e+00  3.8020496e+00\n",
      "  -3.8020492e+00  3.8020492e+00 -3.8020492e+00  3.8020492e+00\n",
      "  -3.8020496e+00  3.8020496e+00 -3.8020496e+00  3.8020496e+00\n",
      "  -3.8020492e+00  3.8020492e+00 -3.8020487e+00  3.8020487e+00\n",
      "  -3.8020496e+00  3.8020496e+00]\n",
      " [ 6.4312253e+00  0.0000000e+00  6.4312248e+00  0.0000000e+00\n",
      "   6.4312253e+00  0.0000000e+00  6.4312243e+00  0.0000000e+00\n",
      "   6.4312243e+00  0.0000000e+00  6.4312243e+00  0.0000000e+00\n",
      "   6.4312248e+00  0.0000000e+00  6.4312248e+00  0.0000000e+00\n",
      "   6.4312248e+00  0.0000000e+00  6.4312243e+00  0.0000000e+00\n",
      "   3.6608610e+00  3.6608610e+00  3.6608615e+00  3.6608615e+00\n",
      "   3.6608610e+00  3.6608610e+00  3.6608615e+00  3.6608615e+00\n",
      "   3.6608615e+00  3.6608615e+00  3.6608615e+00  3.6608615e+00\n",
      "   3.6608610e+00  3.6608610e+00  3.6608615e+00  3.6608615e+00\n",
      "   3.6608615e+00  3.6608615e+00  3.6608615e+00  3.6608615e+00\n",
      "  -2.8111776e-07  6.4312243e+00 -2.8111779e-07  6.4312248e+00\n",
      "  -2.8111774e-07  6.4312248e+00 -2.8111774e-07  6.4312248e+00\n",
      "  -2.8111776e-07  6.4312243e+00 -2.8111776e-07  6.4312243e+00\n",
      "  -2.8111774e-07  6.4312243e+00 -2.8111774e-07  6.4312253e+00\n",
      "  -2.8111782e-07  6.4312248e+00 -2.8111776e-07  6.4312253e+00\n",
      "  -3.6608615e+00  3.6608615e+00 -3.6608615e+00  3.6608615e+00\n",
      "  -3.6608615e+00  3.6608615e+00 -3.6608610e+00  3.6608610e+00\n",
      "  -3.6608615e+00  3.6608615e+00 -3.6608615e+00  3.6608615e+00\n",
      "  -3.6608615e+00  3.6608615e+00 -3.6608610e+00  3.6608610e+00\n",
      "  -3.6608615e+00  3.6608615e+00]\n",
      " [ 6.6495495e+00  0.0000000e+00  6.6495495e+00  0.0000000e+00\n",
      "   6.6495495e+00  0.0000000e+00  6.6495485e+00  0.0000000e+00\n",
      "   6.6495485e+00  0.0000000e+00  6.6495485e+00  0.0000000e+00\n",
      "   6.6495495e+00  0.0000000e+00  6.6495495e+00  0.0000000e+00\n",
      "   6.6495490e+00  0.0000000e+00  6.6495485e+00  0.0000000e+00\n",
      "   3.5196733e+00  3.5196733e+00  3.5196743e+00  3.5196743e+00\n",
      "   3.5196733e+00  3.5196733e+00  3.5196738e+00  3.5196738e+00\n",
      "   3.5196743e+00  3.5196743e+00  3.5196743e+00  3.5196743e+00\n",
      "   3.5196738e+00  3.5196738e+00  3.5196738e+00  3.5196738e+00\n",
      "   3.5196743e+00  3.5196743e+00  3.5196738e+00  3.5196738e+00\n",
      "  -2.9066103e-07  6.6495485e+00 -2.9066106e-07  6.6495490e+00\n",
      "  -2.9066101e-07  6.6495495e+00 -2.9066101e-07  6.6495495e+00\n",
      "  -2.9066103e-07  6.6495485e+00 -2.9066103e-07  6.6495485e+00\n",
      "  -2.9066101e-07  6.6495485e+00 -2.9066101e-07  6.6495495e+00\n",
      "  -2.9066109e-07  6.6495495e+00 -2.9066101e-07  6.6495495e+00\n",
      "  -3.5196738e+00  3.5196738e+00 -3.5196743e+00  3.5196743e+00\n",
      "  -3.5196738e+00  3.5196738e+00 -3.5196738e+00  3.5196738e+00\n",
      "  -3.5196743e+00  3.5196743e+00 -3.5196743e+00  3.5196743e+00\n",
      "  -3.5196738e+00  3.5196738e+00 -3.5196733e+00  3.5196733e+00\n",
      "  -3.5196743e+00  3.5196743e+00]\n",
      " [ 6.8678751e+00  0.0000000e+00  6.8678751e+00  0.0000000e+00\n",
      "   6.8678751e+00  0.0000000e+00  6.8678741e+00  0.0000000e+00\n",
      "   6.8678741e+00  0.0000000e+00  6.8678741e+00  0.0000000e+00\n",
      "   6.8678751e+00  0.0000000e+00  6.8678751e+00  0.0000000e+00\n",
      "   6.8678751e+00  0.0000000e+00  6.8678741e+00  0.0000000e+00\n",
      "   3.3784852e+00  3.3784852e+00  3.3784857e+00  3.3784857e+00\n",
      "   3.3784847e+00  3.3784847e+00  3.3784852e+00  3.3784852e+00\n",
      "   3.3784857e+00  3.3784857e+00  3.3784857e+00  3.3784857e+00\n",
      "   3.3784852e+00  3.3784852e+00  3.3784852e+00  3.3784852e+00\n",
      "   3.3784857e+00  3.3784857e+00  3.3784857e+00  3.3784857e+00\n",
      "  -3.0020433e-07  6.8678741e+00 -3.0020439e-07  6.8678751e+00\n",
      "  -3.0020433e-07  6.8678751e+00 -3.0020433e-07  6.8678751e+00\n",
      "  -3.0020433e-07  6.8678741e+00 -3.0020433e-07  6.8678741e+00\n",
      "  -3.0020433e-07  6.8678741e+00 -3.0020433e-07  6.8678751e+00\n",
      "  -3.0020442e-07  6.8678751e+00 -3.0020433e-07  6.8678751e+00\n",
      "  -3.3784857e+00  3.3784857e+00 -3.3784857e+00  3.3784857e+00\n",
      "  -3.3784852e+00  3.3784852e+00 -3.3784852e+00  3.3784852e+00\n",
      "  -3.3784857e+00  3.3784857e+00 -3.3784857e+00  3.3784857e+00\n",
      "  -3.3784852e+00  3.3784852e+00 -3.3784847e+00  3.3784847e+00\n",
      "  -3.3784857e+00  3.3784857e+00]\n",
      " [ 7.0861998e+00  0.0000000e+00  7.0862002e+00  0.0000000e+00\n",
      "   7.0862002e+00  0.0000000e+00  7.0861993e+00  0.0000000e+00\n",
      "   7.0861988e+00  0.0000000e+00  7.0861988e+00  0.0000000e+00\n",
      "   7.0861998e+00  0.0000000e+00  7.0861998e+00  0.0000000e+00\n",
      "   7.0861998e+00  0.0000000e+00  7.0861988e+00  0.0000000e+00\n",
      "   3.2372971e+00  3.2372971e+00  3.2372980e+00  3.2372980e+00\n",
      "   3.2372971e+00  3.2372971e+00  3.2372975e+00  3.2372975e+00\n",
      "   3.2372980e+00  3.2372980e+00  3.2372980e+00  3.2372980e+00\n",
      "   3.2372975e+00  3.2372975e+00  3.2372975e+00  3.2372975e+00\n",
      "   3.2372980e+00  3.2372980e+00  3.2372975e+00  3.2372975e+00\n",
      "  -3.0974761e-07  7.0861988e+00 -3.0974766e-07  7.0861998e+00\n",
      "  -3.0974761e-07  7.0861998e+00 -3.0974761e-07  7.0861998e+00\n",
      "  -3.0974763e-07  7.0861988e+00 -3.0974763e-07  7.0861988e+00\n",
      "  -3.0974761e-07  7.0861993e+00 -3.0974761e-07  7.0862002e+00\n",
      "  -3.0974769e-07  7.0862002e+00 -3.0974761e-07  7.0861998e+00\n",
      "  -3.2372975e+00  3.2372975e+00 -3.2372980e+00  3.2372980e+00\n",
      "  -3.2372975e+00  3.2372975e+00 -3.2372975e+00  3.2372975e+00\n",
      "  -3.2372980e+00  3.2372980e+00 -3.2372980e+00  3.2372980e+00\n",
      "  -3.2372975e+00  3.2372975e+00 -3.2372971e+00  3.2372971e+00\n",
      "  -3.2372980e+00  3.2372980e+00]\n",
      " [ 7.3045244e+00  0.0000000e+00  7.3045249e+00  0.0000000e+00\n",
      "   7.3045249e+00  0.0000000e+00  7.3045239e+00  0.0000000e+00\n",
      "   7.3045235e+00  0.0000000e+00  7.3045235e+00  0.0000000e+00\n",
      "   7.3045244e+00  0.0000000e+00  7.3045244e+00  0.0000000e+00\n",
      "   7.3045249e+00  0.0000000e+00  7.3045235e+00  0.0000000e+00\n",
      "   3.0961094e+00  3.0961094e+00  3.0961099e+00  3.0961099e+00\n",
      "   3.0961094e+00  3.0961094e+00  3.0961099e+00  3.0961099e+00\n",
      "   3.0961099e+00  3.0961099e+00  3.0961099e+00  3.0961099e+00\n",
      "   3.0961094e+00  3.0961094e+00  3.0961099e+00  3.0961099e+00\n",
      "   3.0961099e+00  3.0961099e+00  3.0961099e+00  3.0961099e+00\n",
      "  -3.1929090e-07  7.3045235e+00 -3.1929096e-07  7.3045249e+00\n",
      "  -3.1929088e-07  7.3045244e+00 -3.1929088e-07  7.3045244e+00\n",
      "  -3.1929090e-07  7.3045235e+00 -3.1929090e-07  7.3045235e+00\n",
      "  -3.1929088e-07  7.3045239e+00 -3.1929088e-07  7.3045249e+00\n",
      "  -3.1929099e-07  7.3045249e+00 -3.1929088e-07  7.3045244e+00\n",
      "  -3.0961099e+00  3.0961099e+00 -3.0961099e+00  3.0961099e+00\n",
      "  -3.0961099e+00  3.0961099e+00 -3.0961094e+00  3.0961094e+00\n",
      "  -3.0961099e+00  3.0961099e+00 -3.0961099e+00  3.0961099e+00\n",
      "  -3.0961099e+00  3.0961099e+00 -3.0961094e+00  3.0961094e+00\n",
      "  -3.0961099e+00  3.0961099e+00]\n",
      " [ 7.5228496e+00  0.0000000e+00  7.5228505e+00  0.0000000e+00\n",
      "   7.5228500e+00  0.0000000e+00  7.5228491e+00  0.0000000e+00\n",
      "   7.5228491e+00  0.0000000e+00  7.5228491e+00  0.0000000e+00\n",
      "   7.5228500e+00  0.0000000e+00  7.5228500e+00  0.0000000e+00\n",
      "   7.5228500e+00  0.0000000e+00  7.5228486e+00  0.0000000e+00\n",
      "   2.9549212e+00  2.9549212e+00  2.9549217e+00  2.9549217e+00\n",
      "   2.9549212e+00  2.9549212e+00  2.9549217e+00  2.9549217e+00\n",
      "   2.9549217e+00  2.9549217e+00  2.9549217e+00  2.9549217e+00\n",
      "   2.9549212e+00  2.9549212e+00  2.9549217e+00  2.9549217e+00\n",
      "   2.9549217e+00  2.9549217e+00  2.9549217e+00  2.9549217e+00\n",
      "  -3.2883420e-07  7.5228486e+00 -3.2883426e-07  7.5228500e+00\n",
      "  -3.2883418e-07  7.5228500e+00 -3.2883418e-07  7.5228500e+00\n",
      "  -3.2883420e-07  7.5228491e+00 -3.2883420e-07  7.5228491e+00\n",
      "  -3.2883418e-07  7.5228491e+00 -3.2883418e-07  7.5228500e+00\n",
      "  -3.2883429e-07  7.5228505e+00 -3.2883418e-07  7.5228496e+00\n",
      "  -2.9549217e+00  2.9549217e+00 -2.9549217e+00  2.9549217e+00\n",
      "  -2.9549217e+00  2.9549217e+00 -2.9549212e+00  2.9549212e+00\n",
      "  -2.9549217e+00  2.9549217e+00 -2.9549217e+00  2.9549217e+00\n",
      "  -2.9549217e+00  2.9549217e+00 -2.9549212e+00  2.9549212e+00\n",
      "  -2.9549217e+00  2.9549217e+00]\n",
      " [ 7.7411747e+00  0.0000000e+00  7.7411757e+00  0.0000000e+00\n",
      "   7.7411757e+00  0.0000000e+00  7.7411742e+00  0.0000000e+00\n",
      "   7.7411742e+00  0.0000000e+00  7.7411742e+00  0.0000000e+00\n",
      "   7.7411752e+00  0.0000000e+00  7.7411752e+00  0.0000000e+00\n",
      "   7.7411752e+00  0.0000000e+00  7.7411737e+00  0.0000000e+00\n",
      "   2.8137331e+00  2.8137331e+00  2.8137336e+00  2.8137336e+00\n",
      "   2.8137331e+00  2.8137331e+00  2.8137331e+00  2.8137331e+00\n",
      "   2.8137336e+00  2.8137336e+00  2.8137336e+00  2.8137336e+00\n",
      "   2.8137331e+00  2.8137331e+00  2.8137331e+00  2.8137331e+00\n",
      "   2.8137336e+00  2.8137336e+00  2.8137336e+00  2.8137336e+00\n",
      "  -3.3837750e-07  7.7411737e+00 -3.3837756e-07  7.7411752e+00\n",
      "  -3.3837748e-07  7.7411752e+00 -3.3837748e-07  7.7411752e+00\n",
      "  -3.3837750e-07  7.7411742e+00 -3.3837750e-07  7.7411742e+00\n",
      "  -3.3837748e-07  7.7411742e+00 -3.3837748e-07  7.7411757e+00\n",
      "  -3.3837759e-07  7.7411757e+00 -3.3837748e-07  7.7411747e+00\n",
      "  -2.8137336e+00  2.8137336e+00 -2.8137336e+00  2.8137336e+00\n",
      "  -2.8137331e+00  2.8137331e+00 -2.8137331e+00  2.8137331e+00\n",
      "  -2.8137336e+00  2.8137336e+00 -2.8137336e+00  2.8137336e+00\n",
      "  -2.8137331e+00  2.8137331e+00 -2.8137331e+00  2.8137331e+00\n",
      "  -2.8137336e+00  2.8137336e+00]]\n"
     ]
    }
   ],
   "source": [
    "#compute estimated q predictions\n",
    "q_vector_predict=regr.predict(q_times)\n",
    "print(q_vector_predict)"
   ]
  },
  {
   "cell_type": "markdown",
   "id": "ca4dd2f0",
   "metadata": {},
   "source": [
    "## 1.5 Inverse transform estimated_q1, …, estimated_qT into curves"
   ]
  },
  {
   "cell_type": "code",
   "execution_count": 188,
   "id": "1274f694",
   "metadata": {},
   "outputs": [
    {
     "name": "stdout",
     "output_type": "stream",
     "text": [
      "(10, 78)\n",
      "(10, 39, 2)\n"
     ]
    }
   ],
   "source": [
    "#first, we will have to de-compress the vector (turn it back into its original shape)\n",
    "print(q_vector_predict.shape)\n",
    "q_array_predict = np.reshape(q_vector_predict,(n_times,n_points-1,2))\n",
    "print(q_array_predict.shape)\n",
    "\n",
    "#now, we will transform the array back into a tensor so that f_transoform_inverse will accept it\n",
    "import torch\n",
    "\n",
    "q_tensor_predict= []\n",
    "#specifically, we want each of the arrays at i_time to be tensors.\n",
    "for i_time in range(n_times):\n",
    "    q_tensor_predict.append(torch.from_numpy(q_array_predict[i_time])) \n",
    "#print(q_tensor_predict)"
   ]
  },
  {
   "cell_type": "code",
   "execution_count": 191,
   "id": "845c4ecd",
   "metadata": {},
   "outputs": [
    {
     "ename": "TypeError",
     "evalue": "f_transform_inverse() missing 1 required positional argument: 'starting_point'",
     "output_type": "error",
     "traceback": [
      "\u001b[0;31m---------------------------------------------------------------------------\u001b[0m",
      "\u001b[0;31mTypeError\u001b[0m                                 Traceback (most recent call last)",
      "Input \u001b[0;32mIn [191]\u001b[0m, in \u001b[0;36m<cell line: 2>\u001b[0;34m()\u001b[0m\n\u001b[1;32m      1\u001b[0m curve_predicted\u001b[38;5;241m=\u001b[39m[]\n\u001b[1;32m      2\u001b[0m \u001b[38;5;28;01mfor\u001b[39;00m i_time \u001b[38;5;129;01min\u001b[39;00m \u001b[38;5;28mrange\u001b[39m(n_times):\n\u001b[0;32m----> 3\u001b[0m    curve_predicted\u001b[38;5;241m.\u001b[39mappend(\u001b[43melastic_metric\u001b[49m\u001b[38;5;241;43m.\u001b[39;49m\u001b[43mf_transform_inverse\u001b[49m\u001b[43m(\u001b[49m\u001b[43mq_array_predict\u001b[49m\u001b[43m[\u001b[49m\u001b[43mi_time\u001b[49m\u001b[43m,\u001b[49m\u001b[43m:\u001b[49m\u001b[43m,\u001b[49m\u001b[43m:\u001b[49m\u001b[43m]\u001b[49m\u001b[43m)\u001b[49m)\n",
      "\u001b[0;31mTypeError\u001b[0m: f_transform_inverse() missing 1 required positional argument: 'starting_point'"
     ]
    }
   ],
   "source": [
    "curve_predicted=[]\n",
    "for i_time in range(n_times):\n",
    "   curve_predicted.append(elastic_metric.f_transform_inverse(q_array_predict[i_time,:,:]))"
   ]
  },
  {
   "cell_type": "markdown",
   "id": "7efe980e",
   "metadata": {},
   "source": [
    "Note to self, if these predict that they follow geodesics, mix things up by splitting the dataset up like in the example: https://scikit-learn.org/stable/auto_examples/linear_model/plot_ols.html"
   ]
  }
 ],
 "metadata": {
  "kernelspec": {
   "display_name": "Python 3.8.13 64-bit ('dyn': conda)",
   "language": "python",
   "name": "python381364bitdyncondaf9551b40dbe44ba5b6a4ba972ca87957"
  },
  "language_info": {
   "codemirror_mode": {
    "name": "ipython",
    "version": 3
   },
   "file_extension": ".py",
   "mimetype": "text/x-python",
   "name": "python",
   "nbconvert_exporter": "python",
   "pygments_lexer": "ipython3",
   "version": "3.8.13"
  }
 },
 "nbformat": 4,
 "nbformat_minor": 5
}
