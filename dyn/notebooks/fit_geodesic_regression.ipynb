{
 "cells": [
  {
   "cell_type": "markdown",
   "id": "6999cd21",
   "metadata": {},
   "source": [
    "## Fit Geodesic Regression"
   ]
  },
  {
   "cell_type": "code",
   "execution_count": 1,
   "id": "5afedccd",
   "metadata": {},
   "outputs": [
    {
     "name": "stderr",
     "output_type": "stream",
     "text": [
      "INFO: Using pytorch backend\n"
     ]
    }
   ],
   "source": [
    "import os\n",
    "\n",
    "os.environ[\"GEOMSTATS_BACKEND\"] = \"pytorch\"\n",
    "import geomstats.backend as gs"
   ]
  },
  {
   "cell_type": "code",
   "execution_count": 2,
   "id": "07150a20",
   "metadata": {},
   "outputs": [],
   "source": [
    "import dyn.dyn.datasets.synthetic as synthetic\n",
    "\n",
    "n_geodesics = 5\n",
    "n_times = 10\n",
    "n_points = 40\n",
    "\n",
    "geods_square_rect = synthetic.geodesics_square_to_rectangle(\n",
    "    n_geodesics=n_geodesics, n_times=n_times, n_points=n_points\n",
    ")"
   ]
  },
  {
   "cell_type": "code",
   "execution_count": 12,
   "id": "258ff3fc",
   "metadata": {},
   "outputs": [],
   "source": [
    "from geomstats.geometry.discrete_curves import DiscreteCurves, R2\n",
    "\n",
    "SPACE = DiscreteCurves(R2)\n",
    "METRIC = SPACE.srv_metric"
   ]
  },
  {
   "cell_type": "code",
   "execution_count": 13,
   "id": "4ba936e9",
   "metadata": {
    "scrolled": false
   },
   "outputs": [
    {
     "name": "stderr",
     "output_type": "stream",
     "text": [
      "INFO: Number of gradient evaluations: 9, Number of gradient iterations: 7 loss at termination: 0.4470283091068268\n"
     ]
    },
    {
     "name": "stdout",
     "output_type": "stream",
     "text": [
      "Determination coefficient: R^2=0.13\n"
     ]
    }
   ],
   "source": [
    "from dyn.dyn.learning.geodesic_regression import GeodesicRegression\n",
    "\n",
    "n_samples = 10\n",
    "data_times = gs.arange(0, 1, 1 / n_times)\n",
    "data_times -= gs.mean(data_times)\n",
    "\n",
    "target = geods_square_rect[0]\n",
    "\n",
    "# Fit geodesic regression\n",
    "gr = GeodesicRegression(\n",
    "    SPACE,\n",
    "    metric=METRIC,\n",
    "    center_X=False,\n",
    "    method=\"riemannian\",\n",
    "    max_iter=10,  # set to 1000 for a reasonable accuracy, set back to 10 for fast tests\n",
    "    init_step_size=0.02,\n",
    "    verbose=True,\n",
    "    initialization=\"frechet\",\n",
    ")\n",
    "\n",
    "gr.fit(data_times, target, compute_training_score=True)\n",
    "intercept_hat, beta_hat = gr.intercept_, gr.coef_\n",
    "\n",
    "\n",
    "# Measure goodness of fit\n",
    "r2_hat = gr.training_score_\n",
    "\n",
    "print(f\"Determination coefficient: R^2={r2_hat:.2f}\")"
   ]
  },
  {
   "cell_type": "code",
   "execution_count": 5,
   "id": "0414b875",
   "metadata": {},
   "outputs": [],
   "source": [
    "estimated = METRIC.geodesic(initial_curve=intercept_hat, initial_tangent_vec=beta_hat)(\n",
    "    data_times\n",
    ")"
   ]
  },
  {
   "cell_type": "code",
   "execution_count": 6,
   "id": "92d8b783",
   "metadata": {},
   "outputs": [],
   "source": [
    "import matplotlib.pyplot as plt"
   ]
  },
  {
   "cell_type": "code",
   "execution_count": 7,
   "id": "dc7e97ee",
   "metadata": {},
   "outputs": [
    {
     "data": {
      "image/png": "[encoded data removed]",
      "text/plain": [
       "<Figure size 1440x360 with 20 Axes>"
      ]
     },
     "metadata": {
      "needs_background": "light"
     },
     "output_type": "display_data"
    }
   ],
   "source": [
    "fig, axes = plt.subplots(2, n_times, figsize=(20, 5), sharex=True, sharey=True)\n",
    "\n",
    "for i_curve, curve in enumerate([target, estimated]):\n",
    "    for i_time in range(n_times):\n",
    "        axes[i_curve, i_time].plot(\n",
    "            curve[i_time][:, 0], curve[i_time][:, 1], marker=\"o\", c=f\"C{i_curve+8}\"\n",
    "        )\n",
    "        axes[i_curve, i_time].set_aspect(\"equal\")\n",
    "plt.tight_layout()"
   ]
  },
  {
   "cell_type": "markdown",
   "id": "0bb02277",
   "metadata": {},
   "source": [
    "# Fit Geodesic Regression: Elastic Metric"
   ]
  },
  {
   "cell_type": "markdown",
   "id": "a1619662",
   "metadata": {},
   "source": [
    "## 1. Sampling with elastic metric"
   ]
  },
  {
   "cell_type": "code",
   "execution_count": 51,
   "id": "b857e81b",
   "metadata": {},
   "outputs": [],
   "source": [
    "from geomstats.geometry.discrete_curves import DiscreteCurves, R2\n",
    "\n",
    "SPACE = DiscreteCurves(R2,a=1, b=1)\n",
    "METRIC = SPACE.elastic_metric"
   ]
  },
  {
   "cell_type": "code",
   "execution_count": 52,
   "id": "b0d9e9c3",
   "metadata": {
    "scrolled": true
   },
   "outputs": [
    {
     "ename": "NotImplementedError",
     "evalue": "The computation of the metric matrix is not implemented.",
     "output_type": "error",
     "traceback": [
      "\u001b[0;31m---------------------------------------------------------------------------\u001b[0m",
      "\u001b[0;31mNotImplementedError\u001b[0m                       Traceback (most recent call last)",
      "Input \u001b[0;32mIn [52]\u001b[0m, in \u001b[0;36m<cell line: 19>\u001b[0;34m()\u001b[0m\n\u001b[1;32m      7\u001b[0m \u001b[38;5;66;03m# Fit geodesic regression\u001b[39;00m\n\u001b[1;32m      8\u001b[0m gr \u001b[38;5;241m=\u001b[39m GeodesicRegression(\n\u001b[1;32m      9\u001b[0m     SPACE,\n\u001b[1;32m     10\u001b[0m     metric\u001b[38;5;241m=\u001b[39mMETRIC,\n\u001b[0;32m   (...)\u001b[0m\n\u001b[1;32m     16\u001b[0m     initialization\u001b[38;5;241m=\u001b[39m\u001b[38;5;124m\"\u001b[39m\u001b[38;5;124mfrechet\u001b[39m\u001b[38;5;124m\"\u001b[39m,\n\u001b[1;32m     17\u001b[0m )\n\u001b[0;32m---> 19\u001b[0m \u001b[43mgr\u001b[49m\u001b[38;5;241;43m.\u001b[39;49m\u001b[43mfit\u001b[49m\u001b[43m(\u001b[49m\u001b[43mdata_times\u001b[49m\u001b[43m,\u001b[49m\u001b[43m \u001b[49m\u001b[43mtarget\u001b[49m\u001b[43m,\u001b[49m\u001b[43m \u001b[49m\u001b[43mcompute_training_score\u001b[49m\u001b[38;5;241;43m=\u001b[39;49m\u001b[38;5;28;43;01mTrue\u001b[39;49;00m\u001b[43m)\u001b[49m\n\u001b[1;32m     20\u001b[0m intercept_hat, beta_hat \u001b[38;5;241m=\u001b[39m gr\u001b[38;5;241m.\u001b[39mintercept_, gr\u001b[38;5;241m.\u001b[39mcoef_\n\u001b[1;32m     23\u001b[0m \u001b[38;5;66;03m# Measure goodness of fit\u001b[39;00m\n",
      "File \u001b[0;32m~/code/dyn/dyn/learning/geodesic_regression.py:214\u001b[0m, in \u001b[0;36mGeodesicRegression.fit\u001b[0;34m(self, X, y, weights, compute_training_score)\u001b[0m\n\u001b[1;32m    212\u001b[0m     \u001b[38;5;28;01mreturn\u001b[39;00m \u001b[38;5;28mself\u001b[39m\u001b[38;5;241m.\u001b[39m_fit_extrinsic(times, y, weights, compute_training_score)\n\u001b[1;32m    213\u001b[0m \u001b[38;5;28;01mif\u001b[39;00m \u001b[38;5;28mself\u001b[39m\u001b[38;5;241m.\u001b[39mmethod \u001b[38;5;241m==\u001b[39m \u001b[38;5;124m\"\u001b[39m\u001b[38;5;124mriemannian\u001b[39m\u001b[38;5;124m\"\u001b[39m:\n\u001b[0;32m--> 214\u001b[0m     \u001b[38;5;28;01mreturn\u001b[39;00m \u001b[38;5;28;43mself\u001b[39;49m\u001b[38;5;241;43m.\u001b[39;49m\u001b[43m_fit_riemannian\u001b[49m\u001b[43m(\u001b[49m\u001b[43mtimes\u001b[49m\u001b[43m,\u001b[49m\u001b[43m \u001b[49m\u001b[43my\u001b[49m\u001b[43m,\u001b[49m\u001b[43m \u001b[49m\u001b[43mweights\u001b[49m\u001b[43m,\u001b[49m\u001b[43m \u001b[49m\u001b[43mcompute_training_score\u001b[49m\u001b[43m)\u001b[49m\n",
      "File \u001b[0;32m~/code/dyn/dyn/learning/geodesic_regression.py:377\u001b[0m, in \u001b[0;36mGeodesicRegression._fit_riemannian\u001b[0;34m(self, X, y, weights, compute_training_score)\u001b[0m\n\u001b[1;32m    375\u001b[0m current_iter \u001b[38;5;241m=\u001b[39m i \u001b[38;5;241m=\u001b[39m \u001b[38;5;241m0\u001b[39m\n\u001b[1;32m    376\u001b[0m \u001b[38;5;28;01mfor\u001b[39;00m i \u001b[38;5;129;01min\u001b[39;00m \u001b[38;5;28mrange\u001b[39m(\u001b[38;5;28mself\u001b[39m\u001b[38;5;241m.\u001b[39mmax_iter):\n\u001b[0;32m--> 377\u001b[0m     loss, grad \u001b[38;5;241m=\u001b[39m \u001b[43mobjective_with_grad\u001b[49m\u001b[43m(\u001b[49m\u001b[43mparam\u001b[49m\u001b[43m)\u001b[49m\n\u001b[1;32m    378\u001b[0m     \u001b[38;5;28;01mif\u001b[39;00m gs\u001b[38;5;241m.\u001b[39many(gs\u001b[38;5;241m.\u001b[39misnan(grad)):\n\u001b[1;32m    379\u001b[0m         logging\u001b[38;5;241m.\u001b[39mwarning(\u001b[38;5;124mf\u001b[39m\u001b[38;5;124m\"\u001b[39m\u001b[38;5;124mNaN encountered in gradient at iter \u001b[39m\u001b[38;5;132;01m{\u001b[39;00mcurrent_iter\u001b[38;5;132;01m}\u001b[39;00m\u001b[38;5;124m\"\u001b[39m)\n",
      "File \u001b[0;32m~/anaconda3/envs/dyn/lib/python3.8/site-packages/geomstats/_backend/pytorch/autodiff.py:148\u001b[0m, in \u001b[0;36mvalue_and_grad.<locals>.func_with_grad\u001b[0;34m(*args, **kwargs)\u001b[0m\n\u001b[1;32m    145\u001b[0m     new_args \u001b[38;5;241m=\u001b[39m (\u001b[38;5;241m*\u001b[39mnew_args, one_arg)\n\u001b[1;32m    146\u001b[0m args \u001b[38;5;241m=\u001b[39m new_args\n\u001b[0;32m--> 148\u001b[0m value \u001b[38;5;241m=\u001b[39m \u001b[43mfunc\u001b[49m\u001b[43m(\u001b[49m\u001b[38;5;241;43m*\u001b[39;49m\u001b[43margs\u001b[49m\u001b[43m,\u001b[49m\u001b[43m \u001b[49m\u001b[38;5;241;43m*\u001b[39;49m\u001b[38;5;241;43m*\u001b[39;49m\u001b[43mkwargs\u001b[49m\u001b[43m)\u001b[49m\n\u001b[1;32m    149\u001b[0m \u001b[38;5;28;01mif\u001b[39;00m value\u001b[38;5;241m.\u001b[39mndim \u001b[38;5;241m>\u001b[39m \u001b[38;5;241m0\u001b[39m:\n\u001b[1;32m    150\u001b[0m     value\u001b[38;5;241m.\u001b[39mbackward(gradient\u001b[38;5;241m=\u001b[39m_torch\u001b[38;5;241m.\u001b[39mones_like(one_arg), retain_graph\u001b[38;5;241m=\u001b[39m\u001b[38;5;28;01mTrue\u001b[39;00m)\n",
      "File \u001b[0;32m~/code/dyn/dyn/learning/geodesic_regression.py:365\u001b[0m, in \u001b[0;36mGeodesicRegression._fit_riemannian.<locals>.<lambda>\u001b[0;34m(params)\u001b[0m\n\u001b[1;32m    361\u001b[0m     \u001b[38;5;28;01mdef\u001b[39;00m \u001b[38;5;21mvector_transport\u001b[39m(tan_a, _, __, point):\n\u001b[1;32m    362\u001b[0m         \u001b[38;5;28;01mreturn\u001b[39;00m \u001b[38;5;28mself\u001b[39m\u001b[38;5;241m.\u001b[39mspace\u001b[38;5;241m.\u001b[39mto_tangent(tan_a, point)\n\u001b[1;32m    364\u001b[0m objective_with_grad \u001b[38;5;241m=\u001b[39m gs\u001b[38;5;241m.\u001b[39mautodiff\u001b[38;5;241m.\u001b[39mvalue_and_grad(\n\u001b[0;32m--> 365\u001b[0m     \u001b[38;5;28;01mlambda\u001b[39;00m params: \u001b[38;5;28;43mself\u001b[39;49m\u001b[38;5;241;43m.\u001b[39;49m\u001b[43m_loss\u001b[49m\u001b[43m(\u001b[49m\u001b[43mX\u001b[49m\u001b[43m,\u001b[49m\u001b[43m \u001b[49m\u001b[43my\u001b[49m\u001b[43m,\u001b[49m\u001b[43m \u001b[49m\u001b[43mparams\u001b[49m\u001b[43m,\u001b[49m\u001b[43m \u001b[49m\u001b[43mshape\u001b[49m\u001b[43m,\u001b[49m\u001b[43m \u001b[49m\u001b[43mweights\u001b[49m\u001b[43m)\u001b[49m\n\u001b[1;32m    366\u001b[0m )\n\u001b[1;32m    368\u001b[0m lr \u001b[38;5;241m=\u001b[39m \u001b[38;5;28mself\u001b[39m\u001b[38;5;241m.\u001b[39minit_step_size\n\u001b[1;32m    369\u001b[0m intercept_init, coef_init \u001b[38;5;241m=\u001b[39m \u001b[38;5;28mself\u001b[39m\u001b[38;5;241m.\u001b[39minitialize_parameters(y)\n",
      "File \u001b[0;32m~/code/dyn/dyn/learning/geodesic_regression.py:177\u001b[0m, in \u001b[0;36mGeodesicRegression._loss\u001b[0;34m(self, X, y, param, shape, weights)\u001b[0m\n\u001b[1;32m    175\u001b[0m     penalty \u001b[38;5;241m=\u001b[39m \u001b[38;5;241m0\u001b[39m\n\u001b[1;32m    176\u001b[0m tangent_vec \u001b[38;5;241m=\u001b[39m \u001b[38;5;28mself\u001b[39m\u001b[38;5;241m.\u001b[39mspace\u001b[38;5;241m.\u001b[39mto_tangent(coef, base_point)\n\u001b[0;32m--> 177\u001b[0m distances \u001b[38;5;241m=\u001b[39m \u001b[38;5;28mself\u001b[39m\u001b[38;5;241m.\u001b[39mmetric\u001b[38;5;241m.\u001b[39msquared_dist(\u001b[38;5;28;43mself\u001b[39;49m\u001b[38;5;241;43m.\u001b[39;49m\u001b[43m_model\u001b[49m\u001b[43m(\u001b[49m\u001b[43mX\u001b[49m\u001b[43m,\u001b[49m\u001b[43m \u001b[49m\u001b[43mtangent_vec\u001b[49m\u001b[43m,\u001b[49m\u001b[43m \u001b[49m\u001b[43mbase_point\u001b[49m\u001b[43m)\u001b[49m, y)\n\u001b[1;32m    178\u001b[0m \u001b[38;5;28;01mif\u001b[39;00m weights \u001b[38;5;129;01mis\u001b[39;00m \u001b[38;5;28;01mNone\u001b[39;00m:\n\u001b[1;32m    179\u001b[0m     weights \u001b[38;5;241m=\u001b[39m \u001b[38;5;241m1.0\u001b[39m\n",
      "File \u001b[0;32m~/code/dyn/dyn/learning/geodesic_regression.py:142\u001b[0m, in \u001b[0;36mGeodesicRegression._model\u001b[0;34m(self, X, coef, intercept)\u001b[0m\n\u001b[1;32m    121\u001b[0m \u001b[38;5;124;03m\"\"\"Compute the generative model of the geodesic regression.\u001b[39;00m\n\u001b[1;32m    122\u001b[0m \n\u001b[1;32m    123\u001b[0m \u001b[38;5;124;03mParameters\u001b[39;00m\n\u001b[0;32m   (...)\u001b[0m\n\u001b[1;32m    135\u001b[0m \u001b[38;5;124;03m    Value on the manifold output by the generative model.\u001b[39;00m\n\u001b[1;32m    136\u001b[0m \u001b[38;5;124;03m\"\"\"\u001b[39;00m\n\u001b[1;32m    137\u001b[0m X_copy \u001b[38;5;241m=\u001b[39m (\n\u001b[1;32m    138\u001b[0m     X[:, \u001b[38;5;28;01mNone\u001b[39;00m]\n\u001b[1;32m    139\u001b[0m     \u001b[38;5;28;01mif\u001b[39;00m \u001b[38;5;28mself\u001b[39m\u001b[38;5;241m.\u001b[39mmetric\u001b[38;5;241m.\u001b[39mdefault_point_type \u001b[38;5;241m==\u001b[39m \u001b[38;5;124m\"\u001b[39m\u001b[38;5;124mvector\u001b[39m\u001b[38;5;124m\"\u001b[39m\n\u001b[1;32m    140\u001b[0m     \u001b[38;5;28;01melse\u001b[39;00m X[:, \u001b[38;5;28;01mNone\u001b[39;00m, \u001b[38;5;28;01mNone\u001b[39;00m]\n\u001b[1;32m    141\u001b[0m )\n\u001b[0;32m--> 142\u001b[0m \u001b[38;5;28;01mreturn\u001b[39;00m \u001b[38;5;28;43mself\u001b[39;49m\u001b[38;5;241;43m.\u001b[39;49m\u001b[43mmetric\u001b[49m\u001b[38;5;241;43m.\u001b[39;49m\u001b[43mexp\u001b[49m\u001b[43m(\u001b[49m\u001b[43mX_copy\u001b[49m\u001b[43m \u001b[49m\u001b[38;5;241;43m*\u001b[39;49m\u001b[43m \u001b[49m\u001b[43mcoef\u001b[49m\u001b[43m[\u001b[49m\u001b[38;5;28;43;01mNone\u001b[39;49;00m\u001b[43m]\u001b[49m\u001b[43m,\u001b[49m\u001b[43m \u001b[49m\u001b[43mintercept\u001b[49m\u001b[43m)\u001b[49m\n",
      "File \u001b[0;32m~/anaconda3/envs/dyn/lib/python3.8/site-packages/geomstats/geometry/connection.py:132\u001b[0m, in \u001b[0;36mConnection.exp\u001b[0;34m(self, tangent_vec, base_point, n_steps, step, point_type, **kwargs)\u001b[0m\n\u001b[1;32m    128\u001b[0m base_point \u001b[38;5;241m=\u001b[39m gs\u001b[38;5;241m.\u001b[39mbroadcast_to(base_point, tangent_vec\u001b[38;5;241m.\u001b[39mshape)\n\u001b[1;32m    130\u001b[0m initial_state \u001b[38;5;241m=\u001b[39m gs\u001b[38;5;241m.\u001b[39mstack([base_point, tangent_vec])\n\u001b[0;32m--> 132\u001b[0m flow \u001b[38;5;241m=\u001b[39m \u001b[43mintegrate\u001b[49m\u001b[43m(\u001b[49m\n\u001b[1;32m    133\u001b[0m \u001b[43m    \u001b[49m\u001b[38;5;28;43mself\u001b[39;49m\u001b[38;5;241;43m.\u001b[39;49m\u001b[43mgeodesic_equation\u001b[49m\u001b[43m,\u001b[49m\u001b[43m \u001b[49m\u001b[43minitial_state\u001b[49m\u001b[43m,\u001b[49m\u001b[43m \u001b[49m\u001b[43mn_steps\u001b[49m\u001b[38;5;241;43m=\u001b[39;49m\u001b[43mn_steps\u001b[49m\u001b[43m,\u001b[49m\u001b[43m \u001b[49m\u001b[43mstep\u001b[49m\u001b[38;5;241;43m=\u001b[39;49m\u001b[43mstep\u001b[49m\n\u001b[1;32m    134\u001b[0m \u001b[43m\u001b[49m\u001b[43m)\u001b[49m\n\u001b[1;32m    136\u001b[0m exp \u001b[38;5;241m=\u001b[39m flow[\u001b[38;5;241m-\u001b[39m\u001b[38;5;241m1\u001b[39m][\u001b[38;5;241m0\u001b[39m]\n\u001b[1;32m    137\u001b[0m \u001b[38;5;28;01mreturn\u001b[39;00m exp\n",
      "File \u001b[0;32m~/anaconda3/envs/dyn/lib/python3.8/site-packages/geomstats/integrator.py:209\u001b[0m, in \u001b[0;36mintegrate\u001b[0;34m(function, initial_state, end_time, n_steps, step)\u001b[0m\n\u001b[1;32m    206\u001b[0m step_function \u001b[38;5;241m=\u001b[39m \u001b[38;5;28mglobals\u001b[39m()[STEP_FUNCTIONS[step]]\n\u001b[1;32m    208\u001b[0m \u001b[38;5;28;01mfor\u001b[39;00m i \u001b[38;5;129;01min\u001b[39;00m \u001b[38;5;28mrange\u001b[39m(n_steps):\n\u001b[0;32m--> 209\u001b[0m     current_state \u001b[38;5;241m=\u001b[39m \u001b[43mstep_function\u001b[49m\u001b[43m(\u001b[49m\n\u001b[1;32m    210\u001b[0m \u001b[43m        \u001b[49m\u001b[43mstate\u001b[49m\u001b[38;5;241;43m=\u001b[39;49m\u001b[43mcurrent_state\u001b[49m\u001b[43m,\u001b[49m\u001b[43m \u001b[49m\u001b[43mforce\u001b[49m\u001b[38;5;241;43m=\u001b[39;49m\u001b[43mfunction\u001b[49m\u001b[43m,\u001b[49m\u001b[43m \u001b[49m\u001b[43mtime\u001b[49m\u001b[38;5;241;43m=\u001b[39;49m\u001b[43mi\u001b[49m\u001b[43m \u001b[49m\u001b[38;5;241;43m*\u001b[39;49m\u001b[43m \u001b[49m\u001b[43mdt\u001b[49m\u001b[43m,\u001b[49m\u001b[43m \u001b[49m\u001b[43mdt\u001b[49m\u001b[38;5;241;43m=\u001b[39;49m\u001b[43mdt\u001b[49m\n\u001b[1;32m    211\u001b[0m \u001b[43m    \u001b[49m\u001b[43m)\u001b[49m\n\u001b[1;32m    212\u001b[0m     states\u001b[38;5;241m.\u001b[39mappend(current_state)\n\u001b[1;32m    213\u001b[0m \u001b[38;5;28;01mreturn\u001b[39;00m states\n",
      "File \u001b[0;32m~/anaconda3/envs/dyn/lib/python3.8/site-packages/geomstats/integrator.py:50\u001b[0m, in \u001b[0;36meuler_step\u001b[0;34m(force, state, time, dt)\u001b[0m\n\u001b[1;32m     28\u001b[0m \u001b[38;5;28;01mdef\u001b[39;00m \u001b[38;5;21meuler_step\u001b[39m(force, state, time, dt):\n\u001b[1;32m     29\u001b[0m     \u001b[38;5;124;03m\"\"\"Compute one step of the euler approximation.\u001b[39;00m\n\u001b[1;32m     30\u001b[0m \n\u001b[1;32m     31\u001b[0m \u001b[38;5;124;03m    Parameters\u001b[39;00m\n\u001b[0;32m   (...)\u001b[0m\n\u001b[1;32m     48\u001b[0m \u001b[38;5;124;03m        Second variable at time t + dt.\u001b[39;00m\n\u001b[1;32m     49\u001b[0m \u001b[38;5;124;03m    \"\"\"\u001b[39;00m\n\u001b[0;32m---> 50\u001b[0m     derivatives \u001b[38;5;241m=\u001b[39m \u001b[43mforce\u001b[49m\u001b[43m(\u001b[49m\u001b[43mstate\u001b[49m\u001b[43m,\u001b[49m\u001b[43m \u001b[49m\u001b[43mtime\u001b[49m\u001b[43m)\u001b[49m\n\u001b[1;32m     51\u001b[0m     new_state \u001b[38;5;241m=\u001b[39m state \u001b[38;5;241m+\u001b[39m derivatives \u001b[38;5;241m*\u001b[39m dt\n\u001b[1;32m     52\u001b[0m     \u001b[38;5;28;01mreturn\u001b[39;00m new_state\n",
      "File \u001b[0;32m~/anaconda3/envs/dyn/lib/python3.8/site-packages/geomstats/geometry/connection.py:87\u001b[0m, in \u001b[0;36mConnection.geodesic_equation\u001b[0;34m(self, state, _time)\u001b[0m\n\u001b[1;32m     71\u001b[0m \u001b[38;5;124;03m\"\"\"Compute the geodesic ODE associated with the connection.\u001b[39;00m\n\u001b[1;32m     72\u001b[0m \n\u001b[1;32m     73\u001b[0m \u001b[38;5;124;03mParameters\u001b[39;00m\n\u001b[0;32m   (...)\u001b[0m\n\u001b[1;32m     84\u001b[0m \u001b[38;5;124;03m    Value of the vector field to be integrated at position.\u001b[39;00m\n\u001b[1;32m     85\u001b[0m \u001b[38;5;124;03m\"\"\"\u001b[39;00m\n\u001b[1;32m     86\u001b[0m position, velocity \u001b[38;5;241m=\u001b[39m state\n\u001b[0;32m---> 87\u001b[0m gamma \u001b[38;5;241m=\u001b[39m \u001b[38;5;28;43mself\u001b[39;49m\u001b[38;5;241;43m.\u001b[39;49m\u001b[43mchristoffels\u001b[49m\u001b[43m(\u001b[49m\u001b[43mposition\u001b[49m\u001b[43m)\u001b[49m\n\u001b[1;32m     88\u001b[0m equation \u001b[38;5;241m=\u001b[39m gs\u001b[38;5;241m.\u001b[39meinsum(\u001b[38;5;124m\"\u001b[39m\u001b[38;5;124m...kij,...i->...kj\u001b[39m\u001b[38;5;124m\"\u001b[39m, gamma, velocity)\n\u001b[1;32m     89\u001b[0m equation \u001b[38;5;241m=\u001b[39m \u001b[38;5;241m-\u001b[39mgs\u001b[38;5;241m.\u001b[39meinsum(\u001b[38;5;124m\"\u001b[39m\u001b[38;5;124m...kj,...j->...k\u001b[39m\u001b[38;5;124m\"\u001b[39m, equation, velocity)\n",
      "File \u001b[0;32m~/anaconda3/envs/dyn/lib/python3.8/site-packages/geomstats/geometry/riemannian_metric.py:126\u001b[0m, in \u001b[0;36mRiemannianMetric.christoffels\u001b[0;34m(self, base_point)\u001b[0m\n\u001b[1;32m    104\u001b[0m \u001b[38;5;28;01mdef\u001b[39;00m \u001b[38;5;21mchristoffels\u001b[39m(\u001b[38;5;28mself\u001b[39m, base_point):\n\u001b[1;32m    105\u001b[0m     \u001b[38;5;124mr\u001b[39m\u001b[38;5;124;03m\"\"\"Compute Christoffel symbols of the Levi-Civita connection.\u001b[39;00m\n\u001b[1;32m    106\u001b[0m \n\u001b[1;32m    107\u001b[0m \u001b[38;5;124;03m    The Koszul formula defining the Levi-Civita connection gives the\u001b[39;00m\n\u001b[0;32m   (...)\u001b[0m\n\u001b[1;32m    124\u001b[0m \u001b[38;5;124;03m        Christoffel symbols.\u001b[39;00m\n\u001b[1;32m    125\u001b[0m \u001b[38;5;124;03m    \"\"\"\u001b[39;00m\n\u001b[0;32m--> 126\u001b[0m     cometric_mat_at_point \u001b[38;5;241m=\u001b[39m \u001b[38;5;28;43mself\u001b[39;49m\u001b[38;5;241;43m.\u001b[39;49m\u001b[43mcometric_matrix\u001b[49m\u001b[43m(\u001b[49m\u001b[43mbase_point\u001b[49m\u001b[43m)\u001b[49m\n\u001b[1;32m    127\u001b[0m     metric_derivative_at_point \u001b[38;5;241m=\u001b[39m \u001b[38;5;28mself\u001b[39m\u001b[38;5;241m.\u001b[39minner_product_derivative_matrix(base_point)\n\u001b[1;32m    128\u001b[0m     term_1 \u001b[38;5;241m=\u001b[39m gs\u001b[38;5;241m.\u001b[39meinsum(\n\u001b[1;32m    129\u001b[0m         \u001b[38;5;124m\"\u001b[39m\u001b[38;5;124m...lk,...jli->...kij\u001b[39m\u001b[38;5;124m\"\u001b[39m, cometric_mat_at_point, metric_derivative_at_point\n\u001b[1;32m    130\u001b[0m     )\n",
      "File \u001b[0;32m~/anaconda3/envs/dyn/lib/python3.8/site-packages/geomstats/geometry/riemannian_metric.py:83\u001b[0m, in \u001b[0;36mRiemannianMetric.cometric_matrix\u001b[0;34m(self, base_point)\u001b[0m\n\u001b[1;32m     66\u001b[0m \u001b[38;5;28;01mdef\u001b[39;00m \u001b[38;5;21mcometric_matrix\u001b[39m(\u001b[38;5;28mself\u001b[39m, base_point\u001b[38;5;241m=\u001b[39m\u001b[38;5;28;01mNone\u001b[39;00m):\n\u001b[1;32m     67\u001b[0m     \u001b[38;5;124;03m\"\"\"Inner co-product matrix at the cotangent space at a base point.\u001b[39;00m\n\u001b[1;32m     68\u001b[0m \n\u001b[1;32m     69\u001b[0m \u001b[38;5;124;03m    This represents the cometric matrix, i.e. the inverse of the\u001b[39;00m\n\u001b[0;32m   (...)\u001b[0m\n\u001b[1;32m     81\u001b[0m \u001b[38;5;124;03m        Inverse of inner-product matrix.\u001b[39;00m\n\u001b[1;32m     82\u001b[0m \u001b[38;5;124;03m    \"\"\"\u001b[39;00m\n\u001b[0;32m---> 83\u001b[0m     metric_matrix \u001b[38;5;241m=\u001b[39m \u001b[38;5;28;43mself\u001b[39;49m\u001b[38;5;241;43m.\u001b[39;49m\u001b[43mmetric_matrix\u001b[49m\u001b[43m(\u001b[49m\u001b[43mbase_point\u001b[49m\u001b[43m)\u001b[49m\n\u001b[1;32m     84\u001b[0m     cometric_matrix \u001b[38;5;241m=\u001b[39m gs\u001b[38;5;241m.\u001b[39mlinalg\u001b[38;5;241m.\u001b[39minv(metric_matrix)\n\u001b[1;32m     85\u001b[0m     \u001b[38;5;28;01mreturn\u001b[39;00m cometric_matrix\n",
      "File \u001b[0;32m~/anaconda3/envs/dyn/lib/python3.8/site-packages/geomstats/geometry/riemannian_metric.py:62\u001b[0m, in \u001b[0;36mRiemannianMetric.metric_matrix\u001b[0;34m(self, base_point)\u001b[0m\n\u001b[1;32m     48\u001b[0m \u001b[38;5;28;01mdef\u001b[39;00m \u001b[38;5;21mmetric_matrix\u001b[39m(\u001b[38;5;28mself\u001b[39m, base_point\u001b[38;5;241m=\u001b[39m\u001b[38;5;28;01mNone\u001b[39;00m):\n\u001b[1;32m     49\u001b[0m     \u001b[38;5;124;03m\"\"\"Metric matrix at the tangent space at a base point.\u001b[39;00m\n\u001b[1;32m     50\u001b[0m \n\u001b[1;32m     51\u001b[0m \u001b[38;5;124;03m    Parameters\u001b[39;00m\n\u001b[0;32m   (...)\u001b[0m\n\u001b[1;32m     60\u001b[0m \u001b[38;5;124;03m        Inner-product matrix.\u001b[39;00m\n\u001b[1;32m     61\u001b[0m \u001b[38;5;124;03m    \"\"\"\u001b[39;00m\n\u001b[0;32m---> 62\u001b[0m     \u001b[38;5;28;01mraise\u001b[39;00m \u001b[38;5;167;01mNotImplementedError\u001b[39;00m(\n\u001b[1;32m     63\u001b[0m         \u001b[38;5;124m\"\u001b[39m\u001b[38;5;124mThe computation of the metric matrix\u001b[39m\u001b[38;5;124m\"\u001b[39m \u001b[38;5;124m\"\u001b[39m\u001b[38;5;124m is not implemented.\u001b[39m\u001b[38;5;124m\"\u001b[39m\n\u001b[1;32m     64\u001b[0m     )\n",
      "\u001b[0;31mNotImplementedError\u001b[0m: The computation of the metric matrix is not implemented."
     ]
    }
   ],
   "source": [
    "n_samples = 10\n",
    "data_times = gs.arange(0, 1, 1 / n_times)\n",
    "data_times -= gs.mean(data_times)\n",
    "\n",
    "target = geods_square_rect[0]\n",
    "\n",
    "# Fit geodesic regression\n",
    "gr = GeodesicRegression(\n",
    "    SPACE,\n",
    "    metric=METRIC,\n",
    "    center_X=False,\n",
    "    method=\"riemannian\",\n",
    "    max_iter=10,  # set to 1000 for a reasonable accuracy, set back to 10 for fast tests\n",
    "    init_step_size=0.02,\n",
    "    verbose=True,\n",
    "    initialization=\"frechet\",\n",
    ")\n",
    "\n",
    "gr.fit(data_times, target, compute_training_score=True)\n",
    "intercept_hat, beta_hat = gr.intercept_, gr.coef_\n",
    "\n",
    "\n",
    "# Measure goodness of fit\n",
    "r2_hat = gr.training_score_\n",
    "\n",
    "print(f\"Determination coefficient: R^2={r2_hat:.2f}\")"
   ]
  },
  {
   "cell_type": "code",
   "execution_count": null,
   "id": "c14914fa",
   "metadata": {},
   "outputs": [],
   "source": []
  }
 ],
 "metadata": {
  "kernelspec": {
   "display_name": "Python 3 (ipykernel)",
   "language": "python",
   "name": "python3"
  },
  "language_info": {
   "codemirror_mode": {
    "name": "ipython",
    "version": 3
   },
   "file_extension": ".py",
   "mimetype": "text/x-python",
   "name": "python",
   "nbconvert_exporter": "python",
   "pygments_lexer": "ipython3",
   "version": "3.8.13"
  }
 },
 "nbformat": 4,
 "nbformat_minor": 5
}
