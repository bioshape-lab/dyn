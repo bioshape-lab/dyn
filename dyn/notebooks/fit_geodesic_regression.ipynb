{
 "cells": [
  {
   "cell_type": "markdown",
   "id": "6999cd21",
   "metadata": {},
   "source": [
    "## Fit Geodesic Regression"
   ]
  },
  {
   "cell_type": "code",
   "execution_count": 1,
   "id": "5afedccd",
   "metadata": {},
   "outputs": [
    {
     "name": "stderr",
     "output_type": "stream",
     "text": [
      "INFO: Using pytorch backend\n"
     ]
    }
   ],
   "source": [
    "import os\n",
    "\n",
    "os.environ[\"GEOMSTATS_BACKEND\"] = \"pytorch\"\n",
    "import geomstats.backend as gs"
   ]
  },
  {
   "cell_type": "code",
   "execution_count": 2,
   "id": "07150a20",
   "metadata": {},
   "outputs": [],
   "source": [
    "import dyn.dyn.datasets.synthetic as synthetic\n",
    "\n",
    "n_geodesics = 5\n",
    "n_times = 10\n",
    "n_points = 40\n",
    "\n",
    "geods_square_rect = synthetic.geodesics_square_to_rectangle(\n",
    "    n_geodesics=n_geodesics, n_times=n_times, n_points=n_points\n",
    ")"
   ]
  },
  {
   "cell_type": "code",
   "execution_count": 3,
   "id": "258ff3fc",
   "metadata": {},
   "outputs": [],
   "source": [
    "from geomstats.geometry.discrete_curves import DiscreteCurves, R2\n",
    "\n",
    "SPACE = DiscreteCurves(R2)\n",
    "METRIC = SPACE.srv_metric"
   ]
  },
  {
   "cell_type": "code",
   "execution_count": 4,
   "id": "4ba936e9",
   "metadata": {
    "scrolled": false
   },
   "outputs": [
    {
     "name": "stderr",
     "output_type": "stream",
     "text": [
      "INFO: Number of gradient evaluations: 9, Number of gradient iterations: 6 loss at termination: 0.4497899115085602\n"
     ]
    },
    {
     "name": "stdout",
     "output_type": "stream",
     "text": [
      "Determination coefficient: R^2=0.10\n"
     ]
    }
   ],
   "source": [
    "from dyn.dyn.learning.geodesic_regression import GeodesicRegression\n",
    "\n",
    "n_samples = 10\n",
    "data_times = gs.arange(0, 1, 1 / n_times)\n",
    "data_times -= gs.mean(data_times)\n",
    "\n",
    "target = geods_square_rect[0]\n",
    "\n",
    "# Fit geodesic regression\n",
    "gr = GeodesicRegression(\n",
    "    SPACE,\n",
    "    metric=METRIC,\n",
    "    center_X=False,\n",
    "    method=\"riemannian\",\n",
    "    max_iter=10,  # set to 1000 for a reasonable accuracy, set back to 10 for fast tests\n",
    "    init_step_size=0.02,\n",
    "    verbose=True,\n",
    "    initialization=\"frechet\",\n",
    ")\n",
    "\n",
    "gr.fit(data_times, target, compute_training_score=True)\n",
    "intercept_hat, beta_hat = gr.intercept_, gr.coef_\n",
    "\n",
    "\n",
    "# Measure goodness of fit\n",
    "r2_hat = gr.training_score_\n",
    "\n",
    "print(f\"Determination coefficient: R^2={r2_hat:.2f}\")"
   ]
  },
  {
   "cell_type": "code",
   "execution_count": 5,
   "id": "0414b875",
   "metadata": {},
   "outputs": [],
   "source": [
    "estimated = METRIC.geodesic(initial_curve=intercept_hat, initial_tangent_vec=beta_hat)(\n",
    "    data_times\n",
    ")"
   ]
  },
  {
   "cell_type": "code",
   "execution_count": 6,
   "id": "92d8b783",
   "metadata": {},
   "outputs": [],
   "source": [
    "import matplotlib.pyplot as plt"
   ]
  },
  {
   "cell_type": "code",
   "execution_count": 7,
   "id": "dc7e97ee",
   "metadata": {},
   "outputs": [
    {
     "data": {
      "image/png": "[encoded data removed]",
      "text/plain": [
       "<Figure size 1440x360 with 20 Axes>"
      ]
     },
     "metadata": {
      "needs_background": "light"
     },
     "output_type": "display_data"
    }
   ],
   "source": [
    "fig, axes = plt.subplots(2, n_times, figsize=(20, 5), sharex=True, sharey=True)\n",
    "\n",
    "for i_curve, curve in enumerate([target, estimated]):\n",
    "    for i_time in range(n_times):\n",
    "        axes[i_curve, i_time].plot(\n",
    "            curve[i_time][:, 0], curve[i_time][:, 1], marker=\"o\", c=f\"C{i_curve+8}\"\n",
    "        )\n",
    "        axes[i_curve, i_time].set_aspect(\"equal\")\n",
    "plt.tight_layout()"
   ]
  },
  {
   "cell_type": "code",
   "execution_count": null,
   "id": "067ddfe6",
   "metadata": {},
   "outputs": [],
   "source": []
  },
  {
   "cell_type": "code",
   "execution_count": null,
   "id": "b857e81b",
   "metadata": {},
   "outputs": [],
   "source": []
  }
 ],
 "metadata": {
  "kernelspec": {
   "display_name": "Python 3 (ipykernel)",
   "language": "python",
   "name": "python3"
  },
  "language_info": {
   "codemirror_mode": {
    "name": "ipython",
    "version": 3
   },
   "file_extension": ".py",
   "mimetype": "text/x-python",
   "name": "python",
   "nbconvert_exporter": "python",
   "pygments_lexer": "ipython3",
   "version": "3.8.13"
  }
 },
 "nbformat": 4,
 "nbformat_minor": 5
}
