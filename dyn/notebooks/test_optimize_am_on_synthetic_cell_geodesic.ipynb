{
 "cells": [
  {
   "cell_type": "markdown",
   "id": "5e6fcd6a",
   "metadata": {},
   "source": [
    "# 0. Project specific imports"
   ]
  },
  {
   "cell_type": "code",
   "execution_count": 2,
   "id": "4734c8da",
   "metadata": {},
   "outputs": [
    {
     "name": "stderr",
     "output_type": "stream",
     "text": [
      "INFO: Using numpy backend\n"
     ]
    }
   ],
   "source": [
    "import dyn.dyn.datasets.experimental as experimental\n",
    "import dyn.dyn.datasets.synthetic as synthetic\n",
    "import dyn.dyn.features.f_fit_functions as qfit\n",
    "import dyn.dyn.features.optimize_am as optimize_am\n",
    "import dyn.dyn.features.basic as basic\n",
    "import dyn.dyn.viz as viz\n",
    "\n",
    "viz.init_matplotlib()"
   ]
  },
  {
   "cell_type": "markdown",
   "id": "975eb03c",
   "metadata": {},
   "source": [
    "# 1. Now, attempt to create and plot a synthetic trajectory between two cells."
   ]
  },
  {
   "cell_type": "markdown",
   "id": "2fae2705",
   "metadata": {},
   "source": [
    "## 1.1 Load Osteosarcoma cells"
   ]
  },
  {
   "cell_type": "code",
   "execution_count": 5,
   "id": "071492a6",
   "metadata": {},
   "outputs": [
    {
     "name": "stdout",
     "output_type": "stream",
     "text": [
      "... Selecting only a random subset of 650 / 650 cells.\n",
      "... Interpolating: Cell boundaries have 100 samplings points.\n",
      "... Removing potential duplicate sampling points on cell boundaries.\n",
      "\n",
      "- Cells: quotienting translation.\n",
      "- Cell shapes: quotienting scaling (length).\n",
      "- Cell shapes: quotienting rotation.\n"
     ]
    }
   ],
   "source": [
    "n_cells = 650\n",
    "n_sampling_points = 100\n",
    "\n",
    "quotient = [\"scaling\", \"rotation\"]\n",
    "\n",
    "cells, cell_shapes, labels_a, labels_b = experimental.load_treated_osteosarcoma_cells(\n",
    "        n_cells=n_cells, n_sampling_points=n_sampling_points, quotient=quotient\n",
    "    )"
   ]
  },
  {
   "cell_type": "code",
   "execution_count": 6,
   "id": "1700d9be",
   "metadata": {},
   "outputs": [],
   "source": [
    "def plot_geodesic(initial_curve, end_curve, a=1, b=1):\n",
    "    \"\"\"Plot a geodesic between two curves for the elastic\n",
    "    metric with parameters (a, b).\n",
    "\n",
    "    Parameters\n",
    "    ----------\n",
    "    initial_curve : array-like, shape=[n_sampling_points, 2]\n",
    "        Discrete curve.\n",
    "    end_curve : array-like, shape=[n_sampling_points, 2]\n",
    "        Discrete curve.\n",
    "    a : float\n",
    "        Bending parameter.\n",
    "    b : float\n",
    "        Stretching parameter.\n",
    "    \"\"\"\n",
    "    discrete_curves = DiscreteCurves(R2, a, b)\n",
    "    metric = discrete_curves.elastic_metric\n",
    "\n",
    "    times = gs.linspace(0, 1, 10)\n",
    "    path = metric.geodesic(initial_curve, end_curve)\n",
    "    geodesic = path(times)\n",
    "\n",
    "    fig = plt.figure(figsize = (20, 10))\n",
    "    plt.title(f\"Geodesic between two cells (a = {a}, b = {b})\")\n",
    "    plt.axis('off')\n",
    "\n",
    "    for i in range(len(geodesic)):\n",
    "        fig.add_subplot(2, len(geodesic) // 2, i + 1)\n",
    "        curve = geodesic[i]\n",
    "        plt.plot(curve[:, 0], curve[:, 1], '-o')\n",
    "        plt.axis('equal')\n",
    "        plt.axis('off')"
   ]
  },
  {
   "cell_type": "code",
   "execution_count": 13,
   "id": "1371cc1b",
   "metadata": {},
   "outputs": [
    {
     "ename": "AttributeError",
     "evalue": "'DiscreteCurves' object has no attribute 'elastic_metric'",
     "output_type": "error",
     "traceback": [
      "\u001b[0;31m---------------------------------------------------------------------------\u001b[0m",
      "\u001b[0;31mAttributeError\u001b[0m                            Traceback (most recent call last)",
      "Cell \u001b[0;32mIn [13], line 7\u001b[0m\n\u001b[1;32m      4\u001b[0m a\u001b[38;5;241m=\u001b[39m \u001b[38;5;241m1\u001b[39m\n\u001b[1;32m      5\u001b[0m b\u001b[38;5;241m=\u001b[39m\u001b[38;5;241m0.5\u001b[39m\n\u001b[0;32m----> 7\u001b[0m \u001b[43msynthetic\u001b[49m\u001b[38;5;241;43m.\u001b[39;49m\u001b[43mgeodesic_between_curves\u001b[49m\u001b[43m(\u001b[49m\u001b[43mcell_1\u001b[49m\u001b[43m,\u001b[49m\u001b[43m \u001b[49m\u001b[43mcell_2\u001b[49m\u001b[43m,\u001b[49m\u001b[43m \u001b[49m\u001b[43ma\u001b[49m\u001b[43m,\u001b[49m\u001b[43m \u001b[49m\u001b[43mb\u001b[49m\u001b[43m,\u001b[49m\u001b[43m \u001b[49m\u001b[43mn_times\u001b[49m\u001b[38;5;241;43m=\u001b[39;49m\u001b[38;5;241;43m20\u001b[39;49m\u001b[43m,\u001b[49m\u001b[43m \u001b[49m\u001b[43mn_points\u001b[49m\u001b[38;5;241;43m=\u001b[39;49m\u001b[38;5;241;43m40\u001b[39;49m\u001b[43m)\u001b[49m\n",
      "File \u001b[0;32m~/code/dyn/dyn/datasets/synthetic.py:222\u001b[0m, in \u001b[0;36mgeodesic_between_curves\u001b[0;34m(start_curve, end_curve, a, b, n_times, n_points)\u001b[0m\n\u001b[1;32m    220\u001b[0m \u001b[38;5;124;03m\"\"\"Generate and plot a geodesic between two real cell curves.\"\"\"\u001b[39;00m\n\u001b[1;32m    221\u001b[0m CURVES_SPACE \u001b[38;5;241m=\u001b[39m DiscreteCurves(R2, a,b)\n\u001b[0;32m--> 222\u001b[0m METRIC \u001b[38;5;241m=\u001b[39m \u001b[43mCURVES_SPACE\u001b[49m\u001b[38;5;241;43m.\u001b[39;49m\u001b[43melastic_metric\u001b[49m\n\u001b[1;32m    224\u001b[0m discrete_curves \u001b[38;5;241m=\u001b[39m DiscreteCurves(R2, a, b)\n\u001b[1;32m    225\u001b[0m metric \u001b[38;5;241m=\u001b[39m discrete_curves\u001b[38;5;241m.\u001b[39melastic_metric\n",
      "\u001b[0;31mAttributeError\u001b[0m: 'DiscreteCurves' object has no attribute 'elastic_metric'"
     ]
    }
   ],
   "source": [
    "cell_1 = cells[0]\n",
    "cell_2 = cells[120]\n",
    "\n",
    "a= 1\n",
    "b=0.5\n",
    "\n",
    "synthetic.geodesic_between_curves(cell_1, cell_2, a, b, n_times=20, n_points=40)"
   ]
  },
  {
   "cell_type": "code",
   "execution_count": null,
   "id": "4757bf81",
   "metadata": {},
   "outputs": [],
   "source": []
  }
 ],
 "metadata": {
  "kernelspec": {
   "display_name": "Python 3.8.13 64-bit ('dyn': conda)",
   "language": "python",
   "name": "python381364bitdyncondaf9551b40dbe44ba5b6a4ba972ca87957"
  },
  "language_info": {
   "codemirror_mode": {
    "name": "ipython",
    "version": 3
   },
   "file_extension": ".py",
   "mimetype": "text/x-python",
   "name": "python",
   "nbconvert_exporter": "python",
   "pygments_lexer": "ipython3",
   "version": "3.8.13"
  }
 },
 "nbformat": 4,
 "nbformat_minor": 5
}
