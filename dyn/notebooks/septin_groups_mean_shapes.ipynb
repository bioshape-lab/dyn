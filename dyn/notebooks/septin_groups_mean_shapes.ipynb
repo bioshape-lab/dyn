{
 "cells": [
  {
   "cell_type": "markdown",
   "id": "941ad3f7",
   "metadata": {},
   "source": [
    "# Septin Analysis: comparing the mean shape of each group"
   ]
  },
  {
   "cell_type": "markdown",
   "id": "ead9d4ef",
   "metadata": {},
   "source": [
    "# 1. Overview of analysis"
   ]
  },
  {
   "cell_type": "markdown",
   "id": "dc995bfc",
   "metadata": {},
   "source": [
    "First, we will"
   ]
  },
  {
   "cell_type": "markdown",
   "id": "84d77307",
   "metadata": {},
   "source": [
    "# 2. Imports"
   ]
  },
  {
   "cell_type": "markdown",
   "id": "a80d4074",
   "metadata": {},
   "source": [
    "## 2.1 Notebook setup"
   ]
  },
  {
   "cell_type": "code",
   "execution_count": 1,
   "id": "cc54e9c8",
   "metadata": {},
   "outputs": [
    {
     "name": "stderr",
     "output_type": "stream",
     "text": [
      "INFO: Using pytorch backend\n"
     ]
    },
    {
     "name": "stdout",
     "output_type": "stream",
     "text": [
      "Working directory:  /Users/adelemyers/code/dyn\n"
     ]
    }
   ],
   "source": [
    "import os\n",
    "import subprocess\n",
    "os.environ[\"GEOMSTATS_BACKEND\"] = \"pytorch\"\n",
    "import geomstats.backend as gs\n",
    "\n",
    "geomstats_gitroot_path = subprocess.check_output(\n",
    "    [\"git\", \"rev-parse\", \"--show-toplevel\"], universal_newlines=True\n",
    ")\n",
    "os.chdir(geomstats_gitroot_path[:-1])\n",
    "print(\"Working directory: \", os.getcwd())\n",
    "\n",
    "import warnings\n",
    "warnings.filterwarnings(\"ignore\")"
   ]
  },
  {
   "cell_type": "markdown",
   "id": "2f035173",
   "metadata": {},
   "source": [
    "## 2.2 Standard Imports"
   ]
  },
  {
   "cell_type": "code",
   "execution_count": 2,
   "id": "c3956044",
   "metadata": {},
   "outputs": [],
   "source": [
    "import matplotlib.pyplot as plt\n",
    "import numpy as np\n",
    "import pandas as pd"
   ]
  },
  {
   "cell_type": "code",
   "execution_count": 3,
   "id": "287b7e26",
   "metadata": {},
   "outputs": [],
   "source": [
    "from geomstats.learning.pca import TangentPCA\n",
    "\n",
    "from scipy import stats\n",
    "\n",
    "from sklearn.cluster import KMeans\n",
    "from sklearn.metrics import confusion_matrix\n",
    "from sklearn.decomposition import PCA\n",
    "\n",
    "from scipy.optimize import linear_sum_assignment as linear_assignment\n",
    "from sklearn import manifold\n",
    "from joblib import Parallel, delayed\n",
    "from numba import jit, njit, prange"
   ]
  },
  {
   "cell_type": "markdown",
   "id": "93332949",
   "metadata": {},
   "source": [
    "## 2.3 Project-specific imports"
   ]
  },
  {
   "cell_type": "code",
   "execution_count": 4,
   "id": "0c68d072",
   "metadata": {},
   "outputs": [],
   "source": [
    "from geomstats.geometry.discrete_curves import R2, DiscreteCurves, ClosedDiscreteCurves\n",
    "\n",
    "from geomstats.learning.frechet_mean import FrechetMean\n",
    "from geomstats.learning.kmeans import RiemannianKMeans\n",
    "\n",
    "import dyn.dyn.datasets.experimental as experimental\n",
    "import dyn.dyn.features.basic as basic\n",
    "import dyn.viz as viz\n",
    "\n",
    "viz.init_matplotlib()"
   ]
  },
  {
   "cell_type": "markdown",
   "id": "007ffb9e",
   "metadata": {},
   "source": [
    "# 3. Load the datasets of interest"
   ]
  },
  {
   "cell_type": "code",
   "execution_count": null,
   "id": "f5b730eb",
   "metadata": {},
   "outputs": [],
   "source": []
  }
 ],
 "metadata": {
  "kernelspec": {
   "display_name": "Python 3.8.13 64-bit ('dyn': conda)",
   "language": "python",
   "name": "python381364bitdyncondaf9551b40dbe44ba5b6a4ba972ca87957"
  },
  "language_info": {
   "codemirror_mode": {
    "name": "ipython",
    "version": 3
   },
   "file_extension": ".py",
   "mimetype": "text/x-python",
   "name": "python",
   "nbconvert_exporter": "python",
   "pygments_lexer": "ipython3",
   "version": "3.8.13"
  }
 },
 "nbformat": 4,
 "nbformat_minor": 5
}
