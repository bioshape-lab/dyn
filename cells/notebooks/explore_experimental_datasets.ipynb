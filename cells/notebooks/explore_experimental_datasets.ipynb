{
 "cells": [
  {
   "cell_type": "code",
   "execution_count": 1,
   "id": "2ef3ea3f",
   "metadata": {},
   "outputs": [
    {
     "name": "stderr",
     "output_type": "stream",
     "text": [
      "INFO: Using pytorch backend\n"
     ]
    }
   ],
   "source": [
    "import os\n",
    "\n",
    "os.environ[\"GEOMSTATS_BACKEND\"] = \"pytorch\"\n",
    "import geomstats.backend as gs"
   ]
  },
  {
   "cell_type": "code",
   "execution_count": 2,
   "id": "fcce4d2d",
   "metadata": {},
   "outputs": [],
   "source": [
    "import cells.cells.datasets.experimental as experimental\n",
    "\n",
    "cells, lines, treatments = experimental.load_treated_osteosarcoma_cells(n_sampling_points=100)"
   ]
  },
  {
   "cell_type": "code",
   "execution_count": 3,
   "id": "04f33263",
   "metadata": {},
   "outputs": [],
   "source": [
    "from geomstats.geometry.discrete_curves import R2, DiscreteCurves, SRVMetric\n",
    "\n",
    "CURVES_SPACE = DiscreteCurves(R2)\n",
    "SRV_METRIC = CURVES_SPACE.square_root_velocity_metric"
   ]
  },
  {
   "cell_type": "code",
   "execution_count": 4,
   "id": "199ed9a2",
   "metadata": {},
   "outputs": [
    {
     "ename": "NameError",
     "evalue": "name 'cell_shapes' is not defined",
     "output_type": "error",
     "traceback": [
      "\u001b[0;31m---------------------------------------------------------------------------\u001b[0m",
      "\u001b[0;31mNameError\u001b[0m                                 Traceback (most recent call last)",
      "Input \u001b[0;32mIn [4]\u001b[0m, in \u001b[0;36m<cell line: 4>\u001b[0;34m()\u001b[0m\n\u001b[1;32m      1\u001b[0m \u001b[38;5;28;01mfrom\u001b[39;00m \u001b[38;5;21;01mgeomstats\u001b[39;00m\u001b[38;5;21;01m.\u001b[39;00m\u001b[38;5;21;01mlearning\u001b[39;00m\u001b[38;5;21;01m.\u001b[39;00m\u001b[38;5;21;01mfrechet_mean\u001b[39;00m \u001b[38;5;28;01mimport\u001b[39;00m FrechetMean\n\u001b[1;32m      3\u001b[0m mean \u001b[38;5;241m=\u001b[39m FrechetMean(metric\u001b[38;5;241m=\u001b[39mSRV_METRIC, point_type\u001b[38;5;241m=\u001b[39m\u001b[38;5;124m\"\u001b[39m\u001b[38;5;124mmatrix\u001b[39m\u001b[38;5;124m\"\u001b[39m, method\u001b[38;5;241m=\u001b[39m\u001b[38;5;124m\"\u001b[39m\u001b[38;5;124mdefault\u001b[39m\u001b[38;5;124m\"\u001b[39m)\n\u001b[0;32m----> 4\u001b[0m mean\u001b[38;5;241m.\u001b[39mfit(\u001b[43mcell_shapes\u001b[49m[:\u001b[38;5;241m500\u001b[39m])\n\u001b[1;32m      6\u001b[0m mean_estimate \u001b[38;5;241m=\u001b[39m mean\u001b[38;5;241m.\u001b[39mestimate_\n\u001b[1;32m      8\u001b[0m plt\u001b[38;5;241m.\u001b[39mplot(mean_estimate[:, \u001b[38;5;241m0\u001b[39m], mean_estimate[:, \u001b[38;5;241m1\u001b[39m], \u001b[38;5;124m\"\u001b[39m\u001b[38;5;124mblack\u001b[39m\u001b[38;5;124m\"\u001b[39m)\n",
      "\u001b[0;31mNameError\u001b[0m: name 'cell_shapes' is not defined"
     ]
    }
   ],
   "source": [
    "from geomstats.learning.frechet_mean import FrechetMean\n",
    "\n",
    "mean = FrechetMean(metric=SRV_METRIC, point_type=\"matrix\", method=\"default\")\n",
    "mean.fit(cell_shapes[:500])\n",
    "\n",
    "mean_estimate = mean.estimate_\n",
    "\n",
    "plt.plot(mean_estimate[:, 0], mean_estimate[:, 1], \"black\");"
   ]
  },
  {
   "cell_type": "code",
   "execution_count": null,
   "id": "1f525870",
   "metadata": {},
   "outputs": [],
   "source": []
  }
 ],
 "metadata": {
  "kernelspec": {
   "display_name": "Python 3 (ipykernel)",
   "language": "python",
   "name": "python3"
  },
  "language_info": {
   "codemirror_mode": {
    "name": "ipython",
    "version": 3
   },
   "file_extension": ".py",
   "mimetype": "text/x-python",
   "name": "python",
   "nbconvert_exporter": "python",
   "pygments_lexer": "ipython3",
   "version": "3.8.13"
  }
 },
 "nbformat": 4,
 "nbformat_minor": 5
}
