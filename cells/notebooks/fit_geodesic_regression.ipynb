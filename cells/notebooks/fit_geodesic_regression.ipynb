{
 "cells": [
  {
   "cell_type": "markdown",
   "id": "6999cd21",
   "metadata": {},
   "source": [
    "## Fit Geodesic Regression"
   ]
  },
  {
   "cell_type": "code",
   "execution_count": 1,
   "id": "5afedccd",
   "metadata": {},
   "outputs": [],
   "source": [
    "import os\n",
    "\n",
    "os.environ[\"GEOMSTATS_BACKEND\"] = \"autograd\""
   ]
  },
  {
   "cell_type": "code",
   "execution_count": 2,
   "id": "07150a20",
   "metadata": {},
   "outputs": [
    {
     "name": "stderr",
     "output_type": "stream",
     "text": [
      "INFO: Using autograd backend\n"
     ]
    }
   ],
   "source": [
    "import cells.cells.datasets.synthetic as synthetic\n",
    "\n",
    "n_geodesics = 5\n",
    "n_times = 10\n",
    "n_points = 40\n",
    "\n",
    "geods_square_rect = synthetic.geodesics_square_to_rectangle(\n",
    "    n_geodesics=n_geodesics, n_times=n_times, n_points=n_points)"
   ]
  },
  {
   "cell_type": "code",
   "execution_count": 3,
   "id": "258ff3fc",
   "metadata": {},
   "outputs": [],
   "source": [
    "import geomstats.backend as gs\n",
    "from geomstats.geometry.discrete_curves import DiscreteCurves, R2\n",
    "\n",
    "SPACE = DiscreteCurves(R2)\n",
    "METRIC = SPACE.square_root_velocity_metric"
   ]
  },
  {
   "cell_type": "code",
   "execution_count": 5,
   "id": "4ba936e9",
   "metadata": {},
   "outputs": [
    {
     "ename": "AttributeError",
     "evalue": "'DiscreteCurves' object has no attribute 'projection'",
     "output_type": "error",
     "traceback": [
      "\u001b[0;31m---------------------------------------------------------------------------\u001b[0m",
      "\u001b[0;31mAttributeError\u001b[0m                            Traceback (most recent call last)",
      "Input \u001b[0;32mIn [5]\u001b[0m, in \u001b[0;36m<cell line: 20>\u001b[0;34m()\u001b[0m\n\u001b[1;32m      9\u001b[0m \u001b[38;5;66;03m# Fit geodesic regression\u001b[39;00m\n\u001b[1;32m     10\u001b[0m gr \u001b[38;5;241m=\u001b[39m GeodesicRegression(\n\u001b[1;32m     11\u001b[0m     SPACE,\n\u001b[1;32m     12\u001b[0m     metric\u001b[38;5;241m=\u001b[39mMETRIC,\n\u001b[0;32m   (...)\u001b[0m\n\u001b[1;32m     17\u001b[0m     verbose\u001b[38;5;241m=\u001b[39m\u001b[38;5;28;01mTrue\u001b[39;00m,\n\u001b[1;32m     18\u001b[0m )\n\u001b[0;32m---> 20\u001b[0m \u001b[43mgr\u001b[49m\u001b[38;5;241;43m.\u001b[39;49m\u001b[43mfit\u001b[49m\u001b[43m(\u001b[49m\u001b[43mdata_times\u001b[49m\u001b[43m,\u001b[49m\u001b[43m \u001b[49m\u001b[43mtarget\u001b[49m\u001b[43m,\u001b[49m\u001b[43m \u001b[49m\u001b[43mcompute_training_score\u001b[49m\u001b[38;5;241;43m=\u001b[39;49m\u001b[38;5;28;43;01mTrue\u001b[39;49;00m\u001b[43m)\u001b[49m\n\u001b[1;32m     21\u001b[0m intercept_hat, beta_hat \u001b[38;5;241m=\u001b[39m gr\u001b[38;5;241m.\u001b[39mintercept_, gr\u001b[38;5;241m.\u001b[39mcoef_\n\u001b[1;32m     24\u001b[0m \u001b[38;5;66;03m# Measure goodness of fit\u001b[39;00m\n",
      "File \u001b[0;32m~/Google Drive/My Drive/code/geomstats/geomstats/learning/geodesic_regression.py:215\u001b[0m, in \u001b[0;36mGeodesicRegression.fit\u001b[0;34m(self, X, y, weights, compute_training_score)\u001b[0m\n\u001b[1;32m    213\u001b[0m     \u001b[38;5;28;01mreturn\u001b[39;00m \u001b[38;5;28mself\u001b[39m\u001b[38;5;241m.\u001b[39m_fit_extrinsic(times, y, weights, compute_training_score)\n\u001b[1;32m    214\u001b[0m \u001b[38;5;28;01mif\u001b[39;00m \u001b[38;5;28mself\u001b[39m\u001b[38;5;241m.\u001b[39mmethod \u001b[38;5;241m==\u001b[39m \u001b[38;5;124m\"\u001b[39m\u001b[38;5;124mriemannian\u001b[39m\u001b[38;5;124m\"\u001b[39m:\n\u001b[0;32m--> 215\u001b[0m     \u001b[38;5;28;01mreturn\u001b[39;00m \u001b[38;5;28;43mself\u001b[39;49m\u001b[38;5;241;43m.\u001b[39;49m\u001b[43m_fit_riemannian\u001b[49m\u001b[43m(\u001b[49m\u001b[43mtimes\u001b[49m\u001b[43m,\u001b[49m\u001b[43m \u001b[49m\u001b[43my\u001b[49m\u001b[43m,\u001b[49m\u001b[43m \u001b[49m\u001b[43mweights\u001b[49m\u001b[43m,\u001b[49m\u001b[43m \u001b[49m\u001b[43mcompute_training_score\u001b[49m\u001b[43m)\u001b[49m\n",
      "File \u001b[0;32m~/Google Drive/My Drive/code/geomstats/geomstats/learning/geodesic_regression.py:369\u001b[0m, in \u001b[0;36mGeodesicRegression._fit_riemannian\u001b[0;34m(self, X, y, weights, compute_training_score)\u001b[0m\n\u001b[1;32m    367\u001b[0m lr \u001b[38;5;241m=\u001b[39m \u001b[38;5;28mself\u001b[39m\u001b[38;5;241m.\u001b[39minit_step_size\n\u001b[1;32m    368\u001b[0m intercept_init, coef_init \u001b[38;5;241m=\u001b[39m \u001b[38;5;28mself\u001b[39m\u001b[38;5;241m.\u001b[39minitialize_parameters(y)\n\u001b[0;32m--> 369\u001b[0m intercept_hat \u001b[38;5;241m=\u001b[39m intercept_hat_new \u001b[38;5;241m=\u001b[39m \u001b[38;5;28;43mself\u001b[39;49m\u001b[38;5;241;43m.\u001b[39;49m\u001b[43mspace\u001b[49m\u001b[38;5;241;43m.\u001b[39;49m\u001b[43mprojection\u001b[49m(intercept_init)\n\u001b[1;32m    370\u001b[0m coef_hat \u001b[38;5;241m=\u001b[39m coef_hat_new \u001b[38;5;241m=\u001b[39m \u001b[38;5;28mself\u001b[39m\u001b[38;5;241m.\u001b[39mspace\u001b[38;5;241m.\u001b[39mto_tangent(coef_init, intercept_hat)\n\u001b[1;32m    371\u001b[0m param \u001b[38;5;241m=\u001b[39m gs\u001b[38;5;241m.\u001b[39mvstack([gs\u001b[38;5;241m.\u001b[39mflatten(intercept_hat), gs\u001b[38;5;241m.\u001b[39mflatten(coef_hat)])\n",
      "\u001b[0;31mAttributeError\u001b[0m: 'DiscreteCurves' object has no attribute 'projection'"
     ]
    }
   ],
   "source": [
    "from geomstats.learning.geodesic_regression import GeodesicRegression\n",
    "\n",
    "n_samples = 10\n",
    "data_times = gs.arange(0, 1, 1/n_times)\n",
    "data_times -= gs.mean(data_times)\n",
    "\n",
    "target = geods_square_rect[0]\n",
    "\n",
    "# Fit geodesic regression\n",
    "gr = GeodesicRegression(\n",
    "    SPACE,\n",
    "    metric=METRIC,\n",
    "    center_X=False,\n",
    "    method=\"riemannian\",\n",
    "    max_iter=50,\n",
    "    init_step_size=0.1,\n",
    "    verbose=True,\n",
    ")\n",
    "\n",
    "gr.fit(data_times, target, compute_training_score=True)\n",
    "intercept_hat, beta_hat = gr.intercept_, gr.coef_\n",
    "\n",
    "\n",
    "# Measure goodness of fit\n",
    "r2_hat = gr.training_score_\n",
    "\n",
    "print(f\"MSE on the intercept: {mse_intercept:.2e}\")\n",
    "print(f\"MSE on the initial velocity beta: {mse_beta:.2e}\")\n",
    "print(f\"Determination coefficient: R^2={r2_hat:.2f}\")"
   ]
  },
  {
   "cell_type": "code",
   "execution_count": null,
   "id": "dc7e97ee",
   "metadata": {},
   "outputs": [],
   "source": []
  }
 ],
 "metadata": {
  "kernelspec": {
   "display_name": "Python 3 (ipykernel)",
   "language": "python",
   "name": "python3"
  },
  "language_info": {
   "codemirror_mode": {
    "name": "ipython",
    "version": 3
   },
   "file_extension": ".py",
   "mimetype": "text/x-python",
   "name": "python",
   "nbconvert_exporter": "python",
   "pygments_lexer": "ipython3",
   "version": "3.8.13"
  }
 },
 "nbformat": 4,
 "nbformat_minor": 5
}
